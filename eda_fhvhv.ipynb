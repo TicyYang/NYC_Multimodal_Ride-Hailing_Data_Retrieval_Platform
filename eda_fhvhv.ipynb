{
 "cells": [
  {
   "cell_type": "code",
   "execution_count": 1,
   "metadata": {},
   "outputs": [],
   "source": [
    "import numpy as np\n",
    "import pandas as pd\n",
    "import matplotlib.pyplot as plt\n",
    "import seaborn as sns"
   ]
  },
  {
   "cell_type": "markdown",
   "metadata": {},
   "source": [
    "## Import Data"
   ]
  },
  {
   "cell_type": "code",
   "execution_count": 2,
   "metadata": {},
   "outputs": [
    {
     "data": {
      "text/html": [
       "<div>\n",
       "<style scoped>\n",
       "    .dataframe tbody tr th:only-of-type {\n",
       "        vertical-align: middle;\n",
       "    }\n",
       "\n",
       "    .dataframe tbody tr th {\n",
       "        vertical-align: top;\n",
       "    }\n",
       "\n",
       "    .dataframe thead th {\n",
       "        text-align: right;\n",
       "    }\n",
       "</style>\n",
       "<table border=\"1\" class=\"dataframe\">\n",
       "  <thead>\n",
       "    <tr style=\"text-align: right;\">\n",
       "      <th></th>\n",
       "      <th>hvfhs_license_num</th>\n",
       "      <th>dispatching_base_num</th>\n",
       "      <th>originating_base_num</th>\n",
       "      <th>request_datetime</th>\n",
       "      <th>on_scene_datetime</th>\n",
       "      <th>pickup_datetime</th>\n",
       "      <th>dropoff_datetime</th>\n",
       "      <th>PULocationID</th>\n",
       "      <th>DOLocationID</th>\n",
       "      <th>trip_miles</th>\n",
       "      <th>...</th>\n",
       "      <th>sales_tax</th>\n",
       "      <th>congestion_surcharge</th>\n",
       "      <th>airport_fee</th>\n",
       "      <th>tips</th>\n",
       "      <th>driver_pay</th>\n",
       "      <th>shared_request_flag</th>\n",
       "      <th>shared_match_flag</th>\n",
       "      <th>access_a_ride_flag</th>\n",
       "      <th>wav_request_flag</th>\n",
       "      <th>wav_match_flag</th>\n",
       "    </tr>\n",
       "  </thead>\n",
       "  <tbody>\n",
       "    <tr>\n",
       "      <th>0</th>\n",
       "      <td>HV0003</td>\n",
       "      <td>B02867</td>\n",
       "      <td>B02867</td>\n",
       "      <td>2019-02-01 00:01:26</td>\n",
       "      <td>2019-02-01 00:02:55</td>\n",
       "      <td>2019-02-01 00:05:18</td>\n",
       "      <td>2019-02-01 00:14:57</td>\n",
       "      <td>245</td>\n",
       "      <td>251</td>\n",
       "      <td>2.45</td>\n",
       "      <td>...</td>\n",
       "      <td>0.83</td>\n",
       "      <td>0.0</td>\n",
       "      <td>None</td>\n",
       "      <td>0.0</td>\n",
       "      <td>7.48</td>\n",
       "      <td>Y</td>\n",
       "      <td>N</td>\n",
       "      <td>N</td>\n",
       "      <td>N</td>\n",
       "      <td>None</td>\n",
       "    </tr>\n",
       "    <tr>\n",
       "      <th>1</th>\n",
       "      <td>HV0003</td>\n",
       "      <td>B02879</td>\n",
       "      <td>B02879</td>\n",
       "      <td>2019-02-01 00:26:08</td>\n",
       "      <td>2019-02-01 00:41:29</td>\n",
       "      <td>2019-02-01 00:41:29</td>\n",
       "      <td>2019-02-01 00:49:39</td>\n",
       "      <td>216</td>\n",
       "      <td>197</td>\n",
       "      <td>1.71</td>\n",
       "      <td>...</td>\n",
       "      <td>0.70</td>\n",
       "      <td>0.0</td>\n",
       "      <td>None</td>\n",
       "      <td>2.0</td>\n",
       "      <td>7.93</td>\n",
       "      <td>N</td>\n",
       "      <td>N</td>\n",
       "      <td>N</td>\n",
       "      <td>N</td>\n",
       "      <td>None</td>\n",
       "    </tr>\n",
       "    <tr>\n",
       "      <th>2</th>\n",
       "      <td>HV0005</td>\n",
       "      <td>B02510</td>\n",
       "      <td>None</td>\n",
       "      <td>2019-02-01 00:48:58</td>\n",
       "      <td>NaT</td>\n",
       "      <td>2019-02-01 00:51:34</td>\n",
       "      <td>2019-02-01 01:28:29</td>\n",
       "      <td>261</td>\n",
       "      <td>234</td>\n",
       "      <td>5.01</td>\n",
       "      <td>...</td>\n",
       "      <td>3.99</td>\n",
       "      <td>0.0</td>\n",
       "      <td>None</td>\n",
       "      <td>0.0</td>\n",
       "      <td>35.97</td>\n",
       "      <td>N</td>\n",
       "      <td>Y</td>\n",
       "      <td>N</td>\n",
       "      <td>N</td>\n",
       "      <td>None</td>\n",
       "    </tr>\n",
       "    <tr>\n",
       "      <th>3</th>\n",
       "      <td>HV0005</td>\n",
       "      <td>B02510</td>\n",
       "      <td>None</td>\n",
       "      <td>2019-02-01 00:02:15</td>\n",
       "      <td>NaT</td>\n",
       "      <td>2019-02-01 00:03:51</td>\n",
       "      <td>2019-02-01 00:07:16</td>\n",
       "      <td>87</td>\n",
       "      <td>87</td>\n",
       "      <td>0.34</td>\n",
       "      <td>...</td>\n",
       "      <td>0.64</td>\n",
       "      <td>0.0</td>\n",
       "      <td>None</td>\n",
       "      <td>3.0</td>\n",
       "      <td>5.39</td>\n",
       "      <td>N</td>\n",
       "      <td>Y</td>\n",
       "      <td>N</td>\n",
       "      <td>N</td>\n",
       "      <td>None</td>\n",
       "    </tr>\n",
       "    <tr>\n",
       "      <th>4</th>\n",
       "      <td>HV0005</td>\n",
       "      <td>B02510</td>\n",
       "      <td>None</td>\n",
       "      <td>2019-02-01 00:06:17</td>\n",
       "      <td>NaT</td>\n",
       "      <td>2019-02-01 00:09:44</td>\n",
       "      <td>2019-02-01 00:39:56</td>\n",
       "      <td>87</td>\n",
       "      <td>198</td>\n",
       "      <td>6.84</td>\n",
       "      <td>...</td>\n",
       "      <td>2.16</td>\n",
       "      <td>0.0</td>\n",
       "      <td>None</td>\n",
       "      <td>4.0</td>\n",
       "      <td>17.07</td>\n",
       "      <td>N</td>\n",
       "      <td>Y</td>\n",
       "      <td>N</td>\n",
       "      <td>N</td>\n",
       "      <td>None</td>\n",
       "    </tr>\n",
       "  </tbody>\n",
       "</table>\n",
       "<p>5 rows × 24 columns</p>\n",
       "</div>"
      ],
      "text/plain": [
       "  hvfhs_license_num dispatching_base_num originating_base_num  \\\n",
       "0            HV0003               B02867               B02867   \n",
       "1            HV0003               B02879               B02879   \n",
       "2            HV0005               B02510                 None   \n",
       "3            HV0005               B02510                 None   \n",
       "4            HV0005               B02510                 None   \n",
       "\n",
       "     request_datetime   on_scene_datetime     pickup_datetime  \\\n",
       "0 2019-02-01 00:01:26 2019-02-01 00:02:55 2019-02-01 00:05:18   \n",
       "1 2019-02-01 00:26:08 2019-02-01 00:41:29 2019-02-01 00:41:29   \n",
       "2 2019-02-01 00:48:58                 NaT 2019-02-01 00:51:34   \n",
       "3 2019-02-01 00:02:15                 NaT 2019-02-01 00:03:51   \n",
       "4 2019-02-01 00:06:17                 NaT 2019-02-01 00:09:44   \n",
       "\n",
       "     dropoff_datetime  PULocationID  DOLocationID  trip_miles  ...  sales_tax  \\\n",
       "0 2019-02-01 00:14:57           245           251        2.45  ...       0.83   \n",
       "1 2019-02-01 00:49:39           216           197        1.71  ...       0.70   \n",
       "2 2019-02-01 01:28:29           261           234        5.01  ...       3.99   \n",
       "3 2019-02-01 00:07:16            87            87        0.34  ...       0.64   \n",
       "4 2019-02-01 00:39:56            87           198        6.84  ...       2.16   \n",
       "\n",
       "   congestion_surcharge  airport_fee  tips  driver_pay  shared_request_flag  \\\n",
       "0                   0.0         None   0.0        7.48                    Y   \n",
       "1                   0.0         None   2.0        7.93                    N   \n",
       "2                   0.0         None   0.0       35.97                    N   \n",
       "3                   0.0         None   3.0        5.39                    N   \n",
       "4                   0.0         None   4.0       17.07                    N   \n",
       "\n",
       "  shared_match_flag  access_a_ride_flag  wav_request_flag wav_match_flag  \n",
       "0                 N                   N                 N           None  \n",
       "1                 N                   N                 N           None  \n",
       "2                 Y                   N                 N           None  \n",
       "3                 Y                   N                 N           None  \n",
       "4                 Y                   N                 N           None  \n",
       "\n",
       "[5 rows x 24 columns]"
      ]
     },
     "execution_count": 2,
     "metadata": {},
     "output_type": "execute_result"
    }
   ],
   "source": [
    "df_fhvhv = pd.read_parquet('../fhvhv_tripdata_2019-02.parquet', engine='pyarrow')\n",
    "df_fhvhv.head()"
   ]
  },
  {
   "cell_type": "code",
   "execution_count": 3,
   "metadata": {},
   "outputs": [
    {
     "data": {
      "text/plain": [
       "(20159102, 24)"
      ]
     },
     "execution_count": 3,
     "metadata": {},
     "output_type": "execute_result"
    }
   ],
   "source": [
    "df_fhvhv.shape"
   ]
  },
  {
   "cell_type": "markdown",
   "metadata": {},
   "source": [
    "共有24個columns，分兩部分查看column info"
   ]
  },
  {
   "cell_type": "code",
   "execution_count": 4,
   "metadata": {},
   "outputs": [
    {
     "name": "stdout",
     "output_type": "stream",
     "text": [
      "<class 'pandas.core.frame.DataFrame'>\n",
      "RangeIndex: 20159102 entries, 0 to 20159101\n",
      "Data columns (total 11 columns):\n",
      " #   Column                Non-Null Count     Dtype         \n",
      "---  ------                --------------     -----         \n",
      " 0   hvfhs_license_num     20159102 non-null  object        \n",
      " 1   dispatching_base_num  20158697 non-null  object        \n",
      " 2   originating_base_num  14483914 non-null  object        \n",
      " 3   request_datetime      20050204 non-null  datetime64[ns]\n",
      " 4   on_scene_datetime     13505053 non-null  datetime64[ns]\n",
      " 5   pickup_datetime       20159102 non-null  datetime64[ns]\n",
      " 6   dropoff_datetime      20159102 non-null  datetime64[ns]\n",
      " 7   PULocationID          20159102 non-null  int64         \n",
      " 8   DOLocationID          20159102 non-null  int64         \n",
      " 9   trip_miles            20159102 non-null  float64       \n",
      " 10  trip_time             20159102 non-null  int64         \n",
      "dtypes: datetime64[ns](4), float64(1), int64(3), object(3)\n",
      "memory usage: 1.7+ GB\n"
     ]
    }
   ],
   "source": [
    "df_fhvhv.iloc[:, :11].info(show_counts=True)"
   ]
  },
  {
   "cell_type": "code",
   "execution_count": 5,
   "metadata": {},
   "outputs": [
    {
     "name": "stdout",
     "output_type": "stream",
     "text": [
      "<class 'pandas.core.frame.DataFrame'>\n",
      "RangeIndex: 20159102 entries, 0 to 20159101\n",
      "Data columns (total 12 columns):\n",
      " #   Column                Non-Null Count     Dtype  \n",
      "---  ------                --------------     -----  \n",
      " 0   tolls                 20159102 non-null  float64\n",
      " 1   bcf                   20159102 non-null  float64\n",
      " 2   sales_tax             20159102 non-null  float64\n",
      " 3   congestion_surcharge  19646061 non-null  float64\n",
      " 4   airport_fee           0 non-null         object \n",
      " 5   tips                  20159102 non-null  float64\n",
      " 6   driver_pay            20159102 non-null  float64\n",
      " 7   shared_request_flag   20159102 non-null  object \n",
      " 8   shared_match_flag     20159102 non-null  object \n",
      " 9   access_a_ride_flag    20159102 non-null  object \n",
      " 10  wav_request_flag      20159102 non-null  object \n",
      " 11  wav_match_flag        0 non-null         object \n",
      "dtypes: float64(6), object(6)\n",
      "memory usage: 1.8+ GB\n"
     ]
    }
   ],
   "source": [
    "df_fhvhv.iloc[:, 12:].info(show_counts=True)"
   ]
  },
  {
   "cell_type": "markdown",
   "metadata": {},
   "source": [
    "原始資料有兩千多萬筆，避免處理時間過長，僅擷取2/1資料"
   ]
  },
  {
   "cell_type": "code",
   "execution_count": 6,
   "metadata": {},
   "outputs": [
    {
     "data": {
      "text/plain": [
       "(860161, 24)"
      ]
     },
     "execution_count": 6,
     "metadata": {},
     "output_type": "execute_result"
    }
   ],
   "source": [
    "df_0201 = df_fhvhv[df_fhvhv['pickup_datetime'].dt.day == 1]\n",
    "df_0201.shape"
   ]
  },
  {
   "cell_type": "markdown",
   "metadata": {},
   "source": [
    "## 計算總車資"
   ]
  },
  {
   "cell_type": "markdown",
   "metadata": {},
   "source": [
    "不包含driver_pay，driver_pay為該趟行程Uber支付給司機的費用"
   ]
  },
  {
   "cell_type": "code",
   "execution_count": 7,
   "metadata": {},
   "outputs": [
    {
     "name": "stderr",
     "output_type": "stream",
     "text": [
      "C:\\Users\\Ticy\\AppData\\Local\\Temp\\ipykernel_17576\\495333883.py:1: UserWarning: Pandas doesn't allow columns to be created via a new attribute name - see https://pandas.pydata.org/pandas-docs/stable/indexing.html#attribute-access\n",
      "  df_0201.total_amount = df_0201[['base_passenger_fare', 'tolls', 'bcf', 'sales_tax', 'congestion_surcharge', 'airport_fee', 'tips']].sum(axis=1)\n"
     ]
    },
    {
     "data": {
      "text/plain": [
       "0         10.41\n",
       "1         10.81\n",
       "2         50.07\n",
       "3         11.01\n",
       "4         31.13\n",
       "          ...  \n",
       "860156    47.22\n",
       "860157    19.36\n",
       "860158    11.35\n",
       "860159    44.16\n",
       "860160    13.71\n",
       "Length: 860161, dtype: float64"
      ]
     },
     "execution_count": 7,
     "metadata": {},
     "output_type": "execute_result"
    }
   ],
   "source": [
    "df_0201.total_amount = df_0201[['base_passenger_fare', 'tolls', 'bcf', 'sales_tax', 'congestion_surcharge', 'airport_fee', 'tips']].sum(axis=1)\n",
    "df_0201.total_amount"
   ]
  },
  {
   "cell_type": "markdown",
   "metadata": {},
   "source": [
    "稅的計算是根據哪些費用?"
   ]
  },
  {
   "cell_type": "code",
   "execution_count": 8,
   "metadata": {},
   "outputs": [
    {
     "name": "stderr",
     "output_type": "stream",
     "text": [
      "C:\\Users\\Ticy\\AppData\\Local\\Temp\\ipykernel_17576\\2891821539.py:1: UserWarning: Pandas doesn't allow columns to be created via a new attribute name - see https://pandas.pydata.org/pandas-docs/stable/indexing.html#attribute-access\n",
      "  df_0201.cal_tax_perc = df_0201.sales_tax / (df_0201.total_amount - df_0201.sales_tax - df_0201.tips)\n"
     ]
    },
    {
     "data": {
      "text/plain": [
       "0         0.086639\n",
       "1         0.086313\n",
       "2         0.086589\n",
       "3         0.086839\n",
       "4         0.086504\n",
       "            ...   \n",
       "860156    0.086516\n",
       "860157    0.086420\n",
       "860158    0.086124\n",
       "860159    0.081823\n",
       "860160    0.086371\n",
       "Length: 860161, dtype: float64"
      ]
     },
     "execution_count": 8,
     "metadata": {},
     "output_type": "execute_result"
    }
   ],
   "source": [
    "df_0201.cal_tax_perc = df_0201.sales_tax / (df_0201.total_amount - df_0201.sales_tax - df_0201.tips)\n",
    "df_0201.cal_tax_perc"
   ]
  },
  {
   "cell_type": "markdown",
   "metadata": {},
   "source": [
    "## EDA"
   ]
  },
  {
   "cell_type": "markdown",
   "metadata": {},
   "source": [
    "查看每種license_num各有多少record"
   ]
  },
  {
   "cell_type": "code",
   "execution_count": 9,
   "metadata": {},
   "outputs": [
    {
     "name": "stdout",
     "output_type": "stream",
     "text": [
      "HV0003    571580\n",
      "HV0005    197357\n",
      "HV0002     47785\n",
      "HV0004     43439\n",
      "Name: hvfhs_license_num, dtype: int64\n",
      "HV0003    0.664504\n",
      "HV0005    0.229442\n",
      "HV0002    0.055554\n",
      "HV0004    0.050501\n",
      "Name: hvfhs_license_num, dtype: float64\n"
     ]
    }
   ],
   "source": [
    "print(df_0201.hvfhs_license_num.value_counts())\n",
    "print(df_0201.hvfhs_license_num.value_counts(normalize=True))"
   ]
  },
  {
   "cell_type": "markdown",
   "metadata": {},
   "source": [
    "由於Juno(HV0002)和Via(HV0004)資料量共占10%左右，與Uber(HV0003)、Lyft(HV0005)有較大差距，僅繼續分析**Uber**和**Lyft**的資料  \n",
    "將Uber和Lyft的資料分開"
   ]
  },
  {
   "cell_type": "code",
   "execution_count": 10,
   "metadata": {},
   "outputs": [],
   "source": [
    "df_uber = df_0201[df_0201['hvfhs_license_num'] == 'HV0003']\n",
    "df_lyft = df_0201[df_0201['hvfhs_license_num'] == 'HV0005']"
   ]
  },
  {
   "cell_type": "markdown",
   "metadata": {},
   "source": [
    "FHV，看星期幾的搭乘次數、小費最多  \n",
    "行程距離與小費畫成散點圖"
   ]
  },
  {
   "cell_type": "code",
   "execution_count": null,
   "metadata": {},
   "outputs": [],
   "source": []
  }
 ],
 "metadata": {
  "kernelspec": {
   "display_name": "test_parquet",
   "language": "python",
   "name": "python3"
  },
  "language_info": {
   "codemirror_mode": {
    "name": "ipython",
    "version": 3
   },
   "file_extension": ".py",
   "mimetype": "text/x-python",
   "name": "python",
   "nbconvert_exporter": "python",
   "pygments_lexer": "ipython3",
   "version": "3.10.12"
  },
  "orig_nbformat": 4
 },
 "nbformat": 4,
 "nbformat_minor": 2
}
