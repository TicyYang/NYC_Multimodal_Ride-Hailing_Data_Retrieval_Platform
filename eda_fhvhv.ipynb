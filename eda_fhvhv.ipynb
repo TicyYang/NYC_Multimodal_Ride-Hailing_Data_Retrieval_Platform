{
 "cells": [
  {
   "cell_type": "code",
   "execution_count": 1,
   "metadata": {},
   "outputs": [],
   "source": [
    "import numpy as np\n",
    "import pandas as pd\n",
    "import matplotlib.pyplot as plt\n",
    "import seaborn as sns"
   ]
  },
  {
   "cell_type": "markdown",
   "metadata": {},
   "source": [
    "# 201902"
   ]
  },
  {
   "cell_type": "markdown",
   "metadata": {},
   "source": [
    "## Import Data"
   ]
  },
  {
   "cell_type": "code",
   "execution_count": 2,
   "metadata": {},
   "outputs": [
    {
     "data": {
      "text/html": [
       "<div>\n",
       "<style scoped>\n",
       "    .dataframe tbody tr th:only-of-type {\n",
       "        vertical-align: middle;\n",
       "    }\n",
       "\n",
       "    .dataframe tbody tr th {\n",
       "        vertical-align: top;\n",
       "    }\n",
       "\n",
       "    .dataframe thead th {\n",
       "        text-align: right;\n",
       "    }\n",
       "</style>\n",
       "<table border=\"1\" class=\"dataframe\">\n",
       "  <thead>\n",
       "    <tr style=\"text-align: right;\">\n",
       "      <th></th>\n",
       "      <th>hvfhs_license_num</th>\n",
       "      <th>dispatching_base_num</th>\n",
       "      <th>originating_base_num</th>\n",
       "      <th>request_datetime</th>\n",
       "      <th>on_scene_datetime</th>\n",
       "      <th>pickup_datetime</th>\n",
       "      <th>dropoff_datetime</th>\n",
       "      <th>PULocationID</th>\n",
       "      <th>DOLocationID</th>\n",
       "      <th>trip_miles</th>\n",
       "      <th>...</th>\n",
       "      <th>sales_tax</th>\n",
       "      <th>congestion_surcharge</th>\n",
       "      <th>airport_fee</th>\n",
       "      <th>tips</th>\n",
       "      <th>driver_pay</th>\n",
       "      <th>shared_request_flag</th>\n",
       "      <th>shared_match_flag</th>\n",
       "      <th>access_a_ride_flag</th>\n",
       "      <th>wav_request_flag</th>\n",
       "      <th>wav_match_flag</th>\n",
       "    </tr>\n",
       "  </thead>\n",
       "  <tbody>\n",
       "    <tr>\n",
       "      <th>0</th>\n",
       "      <td>HV0003</td>\n",
       "      <td>B02867</td>\n",
       "      <td>B02867</td>\n",
       "      <td>2019-02-01 00:01:26</td>\n",
       "      <td>2019-02-01 00:02:55</td>\n",
       "      <td>2019-02-01 00:05:18</td>\n",
       "      <td>2019-02-01 00:14:57</td>\n",
       "      <td>245</td>\n",
       "      <td>251</td>\n",
       "      <td>2.45</td>\n",
       "      <td>...</td>\n",
       "      <td>0.83</td>\n",
       "      <td>0.0</td>\n",
       "      <td>None</td>\n",
       "      <td>0.0</td>\n",
       "      <td>7.48</td>\n",
       "      <td>Y</td>\n",
       "      <td>N</td>\n",
       "      <td>N</td>\n",
       "      <td>N</td>\n",
       "      <td>None</td>\n",
       "    </tr>\n",
       "    <tr>\n",
       "      <th>1</th>\n",
       "      <td>HV0003</td>\n",
       "      <td>B02879</td>\n",
       "      <td>B02879</td>\n",
       "      <td>2019-02-01 00:26:08</td>\n",
       "      <td>2019-02-01 00:41:29</td>\n",
       "      <td>2019-02-01 00:41:29</td>\n",
       "      <td>2019-02-01 00:49:39</td>\n",
       "      <td>216</td>\n",
       "      <td>197</td>\n",
       "      <td>1.71</td>\n",
       "      <td>...</td>\n",
       "      <td>0.70</td>\n",
       "      <td>0.0</td>\n",
       "      <td>None</td>\n",
       "      <td>2.0</td>\n",
       "      <td>7.93</td>\n",
       "      <td>N</td>\n",
       "      <td>N</td>\n",
       "      <td>N</td>\n",
       "      <td>N</td>\n",
       "      <td>None</td>\n",
       "    </tr>\n",
       "    <tr>\n",
       "      <th>2</th>\n",
       "      <td>HV0005</td>\n",
       "      <td>B02510</td>\n",
       "      <td>None</td>\n",
       "      <td>2019-02-01 00:48:58</td>\n",
       "      <td>NaT</td>\n",
       "      <td>2019-02-01 00:51:34</td>\n",
       "      <td>2019-02-01 01:28:29</td>\n",
       "      <td>261</td>\n",
       "      <td>234</td>\n",
       "      <td>5.01</td>\n",
       "      <td>...</td>\n",
       "      <td>3.99</td>\n",
       "      <td>0.0</td>\n",
       "      <td>None</td>\n",
       "      <td>0.0</td>\n",
       "      <td>35.97</td>\n",
       "      <td>N</td>\n",
       "      <td>Y</td>\n",
       "      <td>N</td>\n",
       "      <td>N</td>\n",
       "      <td>None</td>\n",
       "    </tr>\n",
       "    <tr>\n",
       "      <th>3</th>\n",
       "      <td>HV0005</td>\n",
       "      <td>B02510</td>\n",
       "      <td>None</td>\n",
       "      <td>2019-02-01 00:02:15</td>\n",
       "      <td>NaT</td>\n",
       "      <td>2019-02-01 00:03:51</td>\n",
       "      <td>2019-02-01 00:07:16</td>\n",
       "      <td>87</td>\n",
       "      <td>87</td>\n",
       "      <td>0.34</td>\n",
       "      <td>...</td>\n",
       "      <td>0.64</td>\n",
       "      <td>0.0</td>\n",
       "      <td>None</td>\n",
       "      <td>3.0</td>\n",
       "      <td>5.39</td>\n",
       "      <td>N</td>\n",
       "      <td>Y</td>\n",
       "      <td>N</td>\n",
       "      <td>N</td>\n",
       "      <td>None</td>\n",
       "    </tr>\n",
       "    <tr>\n",
       "      <th>4</th>\n",
       "      <td>HV0005</td>\n",
       "      <td>B02510</td>\n",
       "      <td>None</td>\n",
       "      <td>2019-02-01 00:06:17</td>\n",
       "      <td>NaT</td>\n",
       "      <td>2019-02-01 00:09:44</td>\n",
       "      <td>2019-02-01 00:39:56</td>\n",
       "      <td>87</td>\n",
       "      <td>198</td>\n",
       "      <td>6.84</td>\n",
       "      <td>...</td>\n",
       "      <td>2.16</td>\n",
       "      <td>0.0</td>\n",
       "      <td>None</td>\n",
       "      <td>4.0</td>\n",
       "      <td>17.07</td>\n",
       "      <td>N</td>\n",
       "      <td>Y</td>\n",
       "      <td>N</td>\n",
       "      <td>N</td>\n",
       "      <td>None</td>\n",
       "    </tr>\n",
       "  </tbody>\n",
       "</table>\n",
       "<p>5 rows × 24 columns</p>\n",
       "</div>"
      ],
      "text/plain": [
       "  hvfhs_license_num dispatching_base_num originating_base_num  \\\n",
       "0            HV0003               B02867               B02867   \n",
       "1            HV0003               B02879               B02879   \n",
       "2            HV0005               B02510                 None   \n",
       "3            HV0005               B02510                 None   \n",
       "4            HV0005               B02510                 None   \n",
       "\n",
       "     request_datetime   on_scene_datetime     pickup_datetime  \\\n",
       "0 2019-02-01 00:01:26 2019-02-01 00:02:55 2019-02-01 00:05:18   \n",
       "1 2019-02-01 00:26:08 2019-02-01 00:41:29 2019-02-01 00:41:29   \n",
       "2 2019-02-01 00:48:58                 NaT 2019-02-01 00:51:34   \n",
       "3 2019-02-01 00:02:15                 NaT 2019-02-01 00:03:51   \n",
       "4 2019-02-01 00:06:17                 NaT 2019-02-01 00:09:44   \n",
       "\n",
       "     dropoff_datetime  PULocationID  DOLocationID  trip_miles  ...  sales_tax  \\\n",
       "0 2019-02-01 00:14:57           245           251        2.45  ...       0.83   \n",
       "1 2019-02-01 00:49:39           216           197        1.71  ...       0.70   \n",
       "2 2019-02-01 01:28:29           261           234        5.01  ...       3.99   \n",
       "3 2019-02-01 00:07:16            87            87        0.34  ...       0.64   \n",
       "4 2019-02-01 00:39:56            87           198        6.84  ...       2.16   \n",
       "\n",
       "   congestion_surcharge  airport_fee  tips  driver_pay  shared_request_flag  \\\n",
       "0                   0.0         None   0.0        7.48                    Y   \n",
       "1                   0.0         None   2.0        7.93                    N   \n",
       "2                   0.0         None   0.0       35.97                    N   \n",
       "3                   0.0         None   3.0        5.39                    N   \n",
       "4                   0.0         None   4.0       17.07                    N   \n",
       "\n",
       "  shared_match_flag  access_a_ride_flag  wav_request_flag wav_match_flag  \n",
       "0                 N                   N                 N           None  \n",
       "1                 N                   N                 N           None  \n",
       "2                 Y                   N                 N           None  \n",
       "3                 Y                   N                 N           None  \n",
       "4                 Y                   N                 N           None  \n",
       "\n",
       "[5 rows x 24 columns]"
      ]
     },
     "execution_count": 2,
     "metadata": {},
     "output_type": "execute_result"
    }
   ],
   "source": [
    "fhvhv_201902 = pd.read_parquet('../fhvhv_tripdata_2019-02.parquet', engine='pyarrow')\n",
    "fhvhv_201902.head()"
   ]
  },
  {
   "cell_type": "code",
   "execution_count": 3,
   "metadata": {},
   "outputs": [
    {
     "data": {
      "text/plain": [
       "(20159102, 24)"
      ]
     },
     "execution_count": 3,
     "metadata": {},
     "output_type": "execute_result"
    }
   ],
   "source": [
    "fhvhv_201902.shape"
   ]
  },
  {
   "cell_type": "markdown",
   "metadata": {},
   "source": [
    "查看每種license_num各有多少record"
   ]
  },
  {
   "cell_type": "code",
   "execution_count": 4,
   "metadata": {},
   "outputs": [
    {
     "name": "stdout",
     "output_type": "stream",
     "text": [
      "hvfhs_license_num\n",
      "HV0003    13504994\n",
      "HV0005     4690916\n",
      "HV0004      983926\n",
      "HV0002      979266\n",
      "Name: count, dtype: int64\n",
      "hvfhs_license_num\n",
      "HV0003    0.669920\n",
      "HV0005    0.232695\n",
      "HV0004    0.048808\n",
      "HV0002    0.048577\n",
      "Name: proportion, dtype: float64\n"
     ]
    }
   ],
   "source": [
    "print(fhvhv_201902['hvfhs_license_num'].value_counts())\n",
    "print(fhvhv_201902['hvfhs_license_num'].value_counts(normalize=True))"
   ]
  },
  {
   "cell_type": "markdown",
   "metadata": {},
   "source": [
    "## Uber (HV0003)"
   ]
  },
  {
   "cell_type": "markdown",
   "metadata": {},
   "source": [
    "僅繼續分析Uber (HV0003)資料"
   ]
  },
  {
   "cell_type": "code",
   "execution_count": 5,
   "metadata": {},
   "outputs": [
    {
     "data": {
      "text/plain": [
       "(13504994, 24)"
      ]
     },
     "execution_count": 5,
     "metadata": {},
     "output_type": "execute_result"
    }
   ],
   "source": [
    "uber_201902 = fhvhv_201902[fhvhv_201902['hvfhs_license_num'] == 'HV0003']\n",
    "uber_201902.shape"
   ]
  },
  {
   "cell_type": "markdown",
   "metadata": {},
   "source": [
    "共有24個columns，分兩部分查看column info"
   ]
  },
  {
   "cell_type": "code",
   "execution_count": 6,
   "metadata": {},
   "outputs": [
    {
     "name": "stdout",
     "output_type": "stream",
     "text": [
      "<class 'pandas.core.frame.DataFrame'>\n",
      "Index: 13504994 entries, 0 to 20159101\n",
      "Data columns (total 12 columns):\n",
      " #   Column                Non-Null Count     Dtype         \n",
      "---  ------                --------------     -----         \n",
      " 0   hvfhs_license_num     13504994 non-null  object        \n",
      " 1   dispatching_base_num  13504589 non-null  object        \n",
      " 2   originating_base_num  13504589 non-null  object        \n",
      " 3   request_datetime      13504994 non-null  datetime64[ns]\n",
      " 4   on_scene_datetime     13504994 non-null  datetime64[ns]\n",
      " 5   pickup_datetime       13504994 non-null  datetime64[ns]\n",
      " 6   dropoff_datetime      13504994 non-null  datetime64[ns]\n",
      " 7   PULocationID          13504994 non-null  int64         \n",
      " 8   DOLocationID          13504994 non-null  int64         \n",
      " 9   trip_miles            13504994 non-null  float64       \n",
      " 10  trip_time             13504994 non-null  int64         \n",
      " 11  base_passenger_fare   13504994 non-null  float64       \n",
      "dtypes: datetime64[ns](4), float64(2), int64(3), object(3)\n",
      "memory usage: 1.3+ GB\n"
     ]
    }
   ],
   "source": [
    "uber_201902.iloc[:, :12].info(show_counts=True)"
   ]
  },
  {
   "cell_type": "code",
   "execution_count": 7,
   "metadata": {},
   "outputs": [
    {
     "name": "stdout",
     "output_type": "stream",
     "text": [
      "<class 'pandas.core.frame.DataFrame'>\n",
      "Index: 13504994 entries, 0 to 20159101\n",
      "Data columns (total 12 columns):\n",
      " #   Column                Non-Null Count     Dtype  \n",
      "---  ------                --------------     -----  \n",
      " 0   tolls                 13504994 non-null  float64\n",
      " 1   bcf                   13504994 non-null  float64\n",
      " 2   sales_tax             13504994 non-null  float64\n",
      " 3   congestion_surcharge  13504994 non-null  float64\n",
      " 4   airport_fee           0 non-null         object \n",
      " 5   tips                  13504994 non-null  float64\n",
      " 6   driver_pay            13504994 non-null  float64\n",
      " 7   shared_request_flag   13504994 non-null  object \n",
      " 8   shared_match_flag     13504994 non-null  object \n",
      " 9   access_a_ride_flag    13504994 non-null  object \n",
      " 10  wav_request_flag      13504994 non-null  object \n",
      " 11  wav_match_flag        0 non-null         object \n",
      "dtypes: float64(6), object(6)\n",
      "memory usage: 1.3+ GB\n"
     ]
    }
   ],
   "source": [
    "uber_201902.iloc[:, 12:].info(show_counts=True)"
   ]
  },
  {
   "cell_type": "markdown",
   "metadata": {},
   "source": [
    "## EDA"
   ]
  },
  {
   "cell_type": "markdown",
   "metadata": {},
   "source": [
    "## 計算總車資"
   ]
  },
  {
   "cell_type": "markdown",
   "metadata": {},
   "source": [
    "先確認有沒有base_passenger_fare為0的紀錄"
   ]
  },
  {
   "cell_type": "code",
   "execution_count": 8,
   "metadata": {},
   "outputs": [
    {
     "data": {
      "text/plain": [
       "(12467, 24)"
      ]
     },
     "execution_count": 8,
     "metadata": {},
     "output_type": "execute_result"
    }
   ],
   "source": [
    "uber_base_fare_0 = uber_201902[uber_201902['base_passenger_fare'] == 0]\n",
    "uber_base_fare_0.shape"
   ]
  },
  {
   "cell_type": "markdown",
   "metadata": {},
   "source": [
    "檢查車資為0的紀錄其他column"
   ]
  },
  {
   "cell_type": "code",
   "execution_count": 14,
   "metadata": {},
   "outputs": [
    {
     "data": {
      "text/html": [
       "<div>\n",
       "<style scoped>\n",
       "    .dataframe tbody tr th:only-of-type {\n",
       "        vertical-align: middle;\n",
       "    }\n",
       "\n",
       "    .dataframe tbody tr th {\n",
       "        vertical-align: top;\n",
       "    }\n",
       "\n",
       "    .dataframe thead th {\n",
       "        text-align: right;\n",
       "    }\n",
       "</style>\n",
       "<table border=\"1\" class=\"dataframe\">\n",
       "  <thead>\n",
       "    <tr style=\"text-align: right;\">\n",
       "      <th></th>\n",
       "      <th>trip_miles</th>\n",
       "      <th>trip_time</th>\n",
       "      <th>tolls</th>\n",
       "      <th>bcf</th>\n",
       "      <th>sales_tax</th>\n",
       "      <th>congestion_surcharge</th>\n",
       "      <th>airport_fee</th>\n",
       "      <th>tips</th>\n",
       "    </tr>\n",
       "  </thead>\n",
       "  <tbody>\n",
       "    <tr>\n",
       "      <th>34</th>\n",
       "      <td>1.50</td>\n",
       "      <td>315</td>\n",
       "      <td>0.0</td>\n",
       "      <td>0.0</td>\n",
       "      <td>0.0</td>\n",
       "      <td>0.0</td>\n",
       "      <td>None</td>\n",
       "      <td>0.0</td>\n",
       "    </tr>\n",
       "    <tr>\n",
       "      <th>5970</th>\n",
       "      <td>0.90</td>\n",
       "      <td>303</td>\n",
       "      <td>0.0</td>\n",
       "      <td>0.0</td>\n",
       "      <td>0.0</td>\n",
       "      <td>0.0</td>\n",
       "      <td>None</td>\n",
       "      <td>0.0</td>\n",
       "    </tr>\n",
       "    <tr>\n",
       "      <th>6103</th>\n",
       "      <td>0.24</td>\n",
       "      <td>150</td>\n",
       "      <td>0.0</td>\n",
       "      <td>0.0</td>\n",
       "      <td>0.0</td>\n",
       "      <td>0.0</td>\n",
       "      <td>None</td>\n",
       "      <td>0.0</td>\n",
       "    </tr>\n",
       "    <tr>\n",
       "      <th>6620</th>\n",
       "      <td>0.59</td>\n",
       "      <td>123</td>\n",
       "      <td>0.0</td>\n",
       "      <td>0.0</td>\n",
       "      <td>0.0</td>\n",
       "      <td>0.0</td>\n",
       "      <td>None</td>\n",
       "      <td>0.0</td>\n",
       "    </tr>\n",
       "    <tr>\n",
       "      <th>11651</th>\n",
       "      <td>0.21</td>\n",
       "      <td>191</td>\n",
       "      <td>0.0</td>\n",
       "      <td>0.0</td>\n",
       "      <td>0.0</td>\n",
       "      <td>0.0</td>\n",
       "      <td>None</td>\n",
       "      <td>0.0</td>\n",
       "    </tr>\n",
       "  </tbody>\n",
       "</table>\n",
       "</div>"
      ],
      "text/plain": [
       "       trip_miles  trip_time  tolls  bcf  sales_tax  congestion_surcharge  \\\n",
       "34           1.50        315    0.0  0.0        0.0                   0.0   \n",
       "5970         0.90        303    0.0  0.0        0.0                   0.0   \n",
       "6103         0.24        150    0.0  0.0        0.0                   0.0   \n",
       "6620         0.59        123    0.0  0.0        0.0                   0.0   \n",
       "11651        0.21        191    0.0  0.0        0.0                   0.0   \n",
       "\n",
       "      airport_fee  tips  \n",
       "34           None   0.0  \n",
       "5970         None   0.0  \n",
       "6103         None   0.0  \n",
       "6620         None   0.0  \n",
       "11651        None   0.0  "
      ]
     },
     "execution_count": 14,
     "metadata": {},
     "output_type": "execute_result"
    }
   ],
   "source": [
    "uber_base_fare_0.loc[:, ['trip_miles', 'trip_time', 'tolls', 'bcf', 'sales_tax', 'congestion_surcharge', 'airport_fee', 'tips']].head()"
   ]
  },
  {
   "cell_type": "code",
   "execution_count": 22,
   "metadata": {},
   "outputs": [
    {
     "name": "stdout",
     "output_type": "stream",
     "text": [
      "tips: count    12467.000000\n",
      "mean         0.053814\n",
      "std          0.364252\n",
      "min          0.000000\n",
      "25%          0.000000\n",
      "50%          0.000000\n",
      "75%          0.000000\n",
      "max         10.000000\n",
      "Name: tips, dtype: float64\n"
     ]
    }
   ],
   "source": [
    "# print(f'trip_time_max: {uber_base_fare_0[\"trip_time\"].describe()}')\n",
    "# print(f'tolls: {uber_base_fare_0[\"tolls\"].describe()}')\n",
    "# print(f'bcf: {uber_base_fare_0[\"bcf\"].describe()}')\n",
    "# print(f'sales_tax: {uber_base_fare_0[\"sales_tax\"].describe()}')\n",
    "# print(f'congestion_surcharge: {uber_base_fare_0[\"congestion_surcharge\"].describe()}')\n",
    "print(f'tips: {uber_base_fare_0[\"tips\"].describe()}')"
   ]
  },
  {
   "cell_type": "markdown",
   "metadata": {},
   "source": [
    "為什麼這些車資會是0? 折扣?"
   ]
  },
  {
   "cell_type": "markdown",
   "metadata": {},
   "source": [
    "不包含driver_pay，driver_pay為該趟行程Uber支付給司機的費用"
   ]
  },
  {
   "cell_type": "code",
   "execution_count": 9,
   "metadata": {},
   "outputs": [
    {
     "name": "stderr",
     "output_type": "stream",
     "text": [
      "C:\\Users\\User\\AppData\\Local\\Temp\\ipykernel_7360\\2361652500.py:1: UserWarning: Pandas doesn't allow columns to be created via a new attribute name - see https://pandas.pydata.org/pandas-docs/stable/indexing.html#attribute-access\n",
      "  uber_201902.total_amount = uber_201902[['base_passenger_fare', 'tolls', 'bcf', 'sales_tax', 'congestion_surcharge', 'airport_fee', 'tips']].sum(axis=1)\n"
     ]
    },
    {
     "data": {
      "text/plain": [
       "0           10.41\n",
       "1           10.81\n",
       "8            7.78\n",
       "9            7.86\n",
       "10          11.54\n",
       "            ...  \n",
       "20159096    17.28\n",
       "20159098    30.52\n",
       "20159099     9.16\n",
       "20159100    25.61\n",
       "20159101    15.36\n",
       "Length: 13504994, dtype: object"
      ]
     },
     "execution_count": 9,
     "metadata": {},
     "output_type": "execute_result"
    }
   ],
   "source": [
    "# uber_201902.total_amount = uber_201902[['base_passenger_fare', 'tolls', 'bcf', 'sales_tax', 'congestion_surcharge', 'airport_fee', 'tips']].sum(axis=1)\n",
    "# uber_201902.total_amount"
   ]
  },
  {
   "cell_type": "markdown",
   "metadata": {},
   "source": [
    "# 202304"
   ]
  },
  {
   "cell_type": "markdown",
   "metadata": {},
   "source": [
    "## Import Data"
   ]
  },
  {
   "cell_type": "code",
   "execution_count": 10,
   "metadata": {},
   "outputs": [
    {
     "data": {
      "text/html": [
       "<div>\n",
       "<style scoped>\n",
       "    .dataframe tbody tr th:only-of-type {\n",
       "        vertical-align: middle;\n",
       "    }\n",
       "\n",
       "    .dataframe tbody tr th {\n",
       "        vertical-align: top;\n",
       "    }\n",
       "\n",
       "    .dataframe thead th {\n",
       "        text-align: right;\n",
       "    }\n",
       "</style>\n",
       "<table border=\"1\" class=\"dataframe\">\n",
       "  <thead>\n",
       "    <tr style=\"text-align: right;\">\n",
       "      <th></th>\n",
       "      <th>hvfhs_license_num</th>\n",
       "      <th>dispatching_base_num</th>\n",
       "      <th>originating_base_num</th>\n",
       "      <th>request_datetime</th>\n",
       "      <th>on_scene_datetime</th>\n",
       "      <th>pickup_datetime</th>\n",
       "      <th>dropoff_datetime</th>\n",
       "      <th>PULocationID</th>\n",
       "      <th>DOLocationID</th>\n",
       "      <th>trip_miles</th>\n",
       "      <th>...</th>\n",
       "      <th>sales_tax</th>\n",
       "      <th>congestion_surcharge</th>\n",
       "      <th>airport_fee</th>\n",
       "      <th>tips</th>\n",
       "      <th>driver_pay</th>\n",
       "      <th>shared_request_flag</th>\n",
       "      <th>shared_match_flag</th>\n",
       "      <th>access_a_ride_flag</th>\n",
       "      <th>wav_request_flag</th>\n",
       "      <th>wav_match_flag</th>\n",
       "    </tr>\n",
       "  </thead>\n",
       "  <tbody>\n",
       "    <tr>\n",
       "      <th>0</th>\n",
       "      <td>HV0003</td>\n",
       "      <td>B03404</td>\n",
       "      <td>B03404</td>\n",
       "      <td>2023-04-01 00:01:28</td>\n",
       "      <td>2023-04-01 00:02:41</td>\n",
       "      <td>2023-04-01 00:03:03</td>\n",
       "      <td>2023-04-01 00:15:42</td>\n",
       "      <td>174</td>\n",
       "      <td>126</td>\n",
       "      <td>5.10</td>\n",
       "      <td>...</td>\n",
       "      <td>1.82</td>\n",
       "      <td>0.00</td>\n",
       "      <td>0.0</td>\n",
       "      <td>0.00</td>\n",
       "      <td>13.83</td>\n",
       "      <td>N</td>\n",
       "      <td>N</td>\n",
       "      <td></td>\n",
       "      <td>N</td>\n",
       "      <td>N</td>\n",
       "    </tr>\n",
       "    <tr>\n",
       "      <th>1</th>\n",
       "      <td>HV0003</td>\n",
       "      <td>B03404</td>\n",
       "      <td>B03404</td>\n",
       "      <td>2023-04-01 00:39:40</td>\n",
       "      <td>2023-04-01 00:41:20</td>\n",
       "      <td>2023-04-01 00:43:42</td>\n",
       "      <td>2023-04-01 01:01:08</td>\n",
       "      <td>211</td>\n",
       "      <td>163</td>\n",
       "      <td>3.11</td>\n",
       "      <td>...</td>\n",
       "      <td>3.56</td>\n",
       "      <td>2.75</td>\n",
       "      <td>0.0</td>\n",
       "      <td>9.52</td>\n",
       "      <td>24.84</td>\n",
       "      <td>N</td>\n",
       "      <td>N</td>\n",
       "      <td></td>\n",
       "      <td>N</td>\n",
       "      <td>N</td>\n",
       "    </tr>\n",
       "    <tr>\n",
       "      <th>2</th>\n",
       "      <td>HV0003</td>\n",
       "      <td>B03404</td>\n",
       "      <td>B03404</td>\n",
       "      <td>2023-03-31 23:56:31</td>\n",
       "      <td>2023-04-01 00:00:20</td>\n",
       "      <td>2023-04-01 00:01:01</td>\n",
       "      <td>2023-04-01 00:09:48</td>\n",
       "      <td>222</td>\n",
       "      <td>76</td>\n",
       "      <td>2.40</td>\n",
       "      <td>...</td>\n",
       "      <td>1.08</td>\n",
       "      <td>0.00</td>\n",
       "      <td>0.0</td>\n",
       "      <td>0.00</td>\n",
       "      <td>8.10</td>\n",
       "      <td>Y</td>\n",
       "      <td>N</td>\n",
       "      <td></td>\n",
       "      <td>N</td>\n",
       "      <td>N</td>\n",
       "    </tr>\n",
       "    <tr>\n",
       "      <th>3</th>\n",
       "      <td>HV0003</td>\n",
       "      <td>B03404</td>\n",
       "      <td>B03404</td>\n",
       "      <td>2023-04-01 00:12:35</td>\n",
       "      <td>2023-04-01 00:16:04</td>\n",
       "      <td>2023-04-01 00:17:17</td>\n",
       "      <td>2023-04-01 00:19:12</td>\n",
       "      <td>76</td>\n",
       "      <td>124</td>\n",
       "      <td>0.43</td>\n",
       "      <td>...</td>\n",
       "      <td>0.70</td>\n",
       "      <td>0.00</td>\n",
       "      <td>0.0</td>\n",
       "      <td>0.00</td>\n",
       "      <td>5.40</td>\n",
       "      <td>N</td>\n",
       "      <td>N</td>\n",
       "      <td></td>\n",
       "      <td>N</td>\n",
       "      <td>N</td>\n",
       "    </tr>\n",
       "    <tr>\n",
       "      <th>4</th>\n",
       "      <td>HV0003</td>\n",
       "      <td>B03404</td>\n",
       "      <td>B03404</td>\n",
       "      <td>2023-04-01 00:46:23</td>\n",
       "      <td>2023-04-01 00:47:30</td>\n",
       "      <td>2023-04-01 00:47:49</td>\n",
       "      <td>2023-04-01 01:05:23</td>\n",
       "      <td>263</td>\n",
       "      <td>247</td>\n",
       "      <td>4.18</td>\n",
       "      <td>...</td>\n",
       "      <td>1.48</td>\n",
       "      <td>2.75</td>\n",
       "      <td>0.0</td>\n",
       "      <td>0.00</td>\n",
       "      <td>15.65</td>\n",
       "      <td>N</td>\n",
       "      <td>N</td>\n",
       "      <td></td>\n",
       "      <td>N</td>\n",
       "      <td>N</td>\n",
       "    </tr>\n",
       "  </tbody>\n",
       "</table>\n",
       "<p>5 rows × 24 columns</p>\n",
       "</div>"
      ],
      "text/plain": [
       "  hvfhs_license_num dispatching_base_num originating_base_num  \\\n",
       "0            HV0003               B03404               B03404   \n",
       "1            HV0003               B03404               B03404   \n",
       "2            HV0003               B03404               B03404   \n",
       "3            HV0003               B03404               B03404   \n",
       "4            HV0003               B03404               B03404   \n",
       "\n",
       "     request_datetime   on_scene_datetime     pickup_datetime  \\\n",
       "0 2023-04-01 00:01:28 2023-04-01 00:02:41 2023-04-01 00:03:03   \n",
       "1 2023-04-01 00:39:40 2023-04-01 00:41:20 2023-04-01 00:43:42   \n",
       "2 2023-03-31 23:56:31 2023-04-01 00:00:20 2023-04-01 00:01:01   \n",
       "3 2023-04-01 00:12:35 2023-04-01 00:16:04 2023-04-01 00:17:17   \n",
       "4 2023-04-01 00:46:23 2023-04-01 00:47:30 2023-04-01 00:47:49   \n",
       "\n",
       "     dropoff_datetime  PULocationID  DOLocationID  trip_miles  ...  sales_tax  \\\n",
       "0 2023-04-01 00:15:42           174           126        5.10  ...       1.82   \n",
       "1 2023-04-01 01:01:08           211           163        3.11  ...       3.56   \n",
       "2 2023-04-01 00:09:48           222            76        2.40  ...       1.08   \n",
       "3 2023-04-01 00:19:12            76           124        0.43  ...       0.70   \n",
       "4 2023-04-01 01:05:23           263           247        4.18  ...       1.48   \n",
       "\n",
       "   congestion_surcharge  airport_fee  tips  driver_pay  shared_request_flag  \\\n",
       "0                  0.00          0.0  0.00       13.83                    N   \n",
       "1                  2.75          0.0  9.52       24.84                    N   \n",
       "2                  0.00          0.0  0.00        8.10                    Y   \n",
       "3                  0.00          0.0  0.00        5.40                    N   \n",
       "4                  2.75          0.0  0.00       15.65                    N   \n",
       "\n",
       "   shared_match_flag  access_a_ride_flag  wav_request_flag wav_match_flag  \n",
       "0                  N                                     N              N  \n",
       "1                  N                                     N              N  \n",
       "2                  N                                     N              N  \n",
       "3                  N                                     N              N  \n",
       "4                  N                                     N              N  \n",
       "\n",
       "[5 rows x 24 columns]"
      ]
     },
     "execution_count": 10,
     "metadata": {},
     "output_type": "execute_result"
    }
   ],
   "source": [
    "fhvhv_202304 = pd.read_parquet('../fhvhv_tripdata_2023-04.parquet', engine='pyarrow')\n",
    "fhvhv_202304.head()"
   ]
  },
  {
   "cell_type": "markdown",
   "metadata": {},
   "source": [
    "## Uber (HV0003)"
   ]
  },
  {
   "cell_type": "markdown",
   "metadata": {},
   "source": [
    "僅繼續分析Uber (HV0003)資料"
   ]
  },
  {
   "cell_type": "code",
   "execution_count": 11,
   "metadata": {},
   "outputs": [
    {
     "data": {
      "text/plain": [
       "(19144903, 24)"
      ]
     },
     "execution_count": 11,
     "metadata": {},
     "output_type": "execute_result"
    }
   ],
   "source": [
    "fhvhv_202304.shape"
   ]
  },
  {
   "cell_type": "code",
   "execution_count": 12,
   "metadata": {},
   "outputs": [
    {
     "data": {
      "text/plain": [
       "(13504994, 24)"
      ]
     },
     "execution_count": 12,
     "metadata": {},
     "output_type": "execute_result"
    }
   ],
   "source": [
    "uber_202304 = fhvhv_201902[fhvhv_201902['hvfhs_license_num'] == 'HV0003']\n",
    "uber_202304.shape"
   ]
  },
  {
   "cell_type": "markdown",
   "metadata": {},
   "source": [
    "稅的計算是根據哪些費用?"
   ]
  },
  {
   "cell_type": "markdown",
   "metadata": {},
   "source": [
    "FHV，看星期幾的搭乘次數、小費最多  \n",
    "行程距離與小費畫成散點圖"
   ]
  }
 ],
 "metadata": {
  "kernelspec": {
   "display_name": "test_parquet",
   "language": "python",
   "name": "python3"
  },
  "language_info": {
   "codemirror_mode": {
    "name": "ipython",
    "version": 3
   },
   "file_extension": ".py",
   "mimetype": "text/x-python",
   "name": "python",
   "nbconvert_exporter": "python",
   "pygments_lexer": "ipython3",
   "version": "3.10.12"
  },
  "orig_nbformat": 4
 },
 "nbformat": 4,
 "nbformat_minor": 2
}
