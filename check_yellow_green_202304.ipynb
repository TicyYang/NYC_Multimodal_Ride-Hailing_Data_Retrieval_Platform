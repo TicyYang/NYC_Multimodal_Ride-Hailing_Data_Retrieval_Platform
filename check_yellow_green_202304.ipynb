{
 "cells": [
  {
   "cell_type": "code",
   "execution_count": 1,
   "metadata": {},
   "outputs": [],
   "source": [
    "import numpy as np\n",
    "import pandas as pd\n",
    "import matplotlib.pyplot as plt\n",
    "import seaborn as sns\n",
    "sns.set_style('darkgrid')\n",
    "%matplotlib inline"
   ]
  },
  {
   "cell_type": "code",
   "execution_count": 2,
   "metadata": {},
   "outputs": [
    {
     "data": {
      "text/plain": [
       "(3288250, 19)"
      ]
     },
     "execution_count": 2,
     "metadata": {},
     "output_type": "execute_result"
    }
   ],
   "source": [
    "yellow = pd.read_parquet('../yellow_tripdata_2023-04.parquet', engine='pyarrow')\n",
    "yellow.shape"
   ]
  },
  {
   "cell_type": "code",
   "execution_count": 3,
   "metadata": {},
   "outputs": [
    {
     "name": "stdout",
     "output_type": "stream",
     "text": [
      "<class 'pandas.core.frame.DataFrame'>\n",
      "RangeIndex: 3288250 entries, 0 to 3288249\n",
      "Data columns (total 19 columns):\n",
      " #   Column                 Non-Null Count    Dtype         \n",
      "---  ------                 --------------    -----         \n",
      " 0   VendorID               3288250 non-null  int32         \n",
      " 1   tpep_pickup_datetime   3288250 non-null  datetime64[ns]\n",
      " 2   tpep_dropoff_datetime  3288250 non-null  datetime64[ns]\n",
      " 3   passenger_count        3197560 non-null  float64       \n",
      " 4   trip_distance          3288250 non-null  float64       \n",
      " 5   RatecodeID             3197560 non-null  float64       \n",
      " 6   store_and_fwd_flag     3197560 non-null  object        \n",
      " 7   PULocationID           3288250 non-null  int32         \n",
      " 8   DOLocationID           3288250 non-null  int32         \n",
      " 9   payment_type           3288250 non-null  int64         \n",
      " 10  fare_amount            3288250 non-null  float64       \n",
      " 11  extra                  3288250 non-null  float64       \n",
      " 12  mta_tax                3288250 non-null  float64       \n",
      " 13  tip_amount             3288250 non-null  float64       \n",
      " 14  tolls_amount           3288250 non-null  float64       \n",
      " 15  improvement_surcharge  3288250 non-null  float64       \n",
      " 16  total_amount           3288250 non-null  float64       \n",
      " 17  congestion_surcharge   3197560 non-null  float64       \n",
      " 18  Airport_fee            3197560 non-null  float64       \n",
      "dtypes: datetime64[ns](2), float64(12), int32(3), int64(1), object(1)\n",
      "memory usage: 439.0+ MB\n"
     ]
    }
   ],
   "source": [
    "yellow.info(show_counts=True)"
   ]
  },
  {
   "cell_type": "code",
   "execution_count": 4,
   "metadata": {},
   "outputs": [
    {
     "data": {
      "text/plain": [
       "(65392, 20)"
      ]
     },
     "execution_count": 4,
     "metadata": {},
     "output_type": "execute_result"
    }
   ],
   "source": [
    "green = pd.read_parquet('../green_tripdata_2023-04.parquet', engine='pyarrow')\n",
    "green.shape"
   ]
  },
  {
   "cell_type": "code",
   "execution_count": 5,
   "metadata": {},
   "outputs": [
    {
     "name": "stdout",
     "output_type": "stream",
     "text": [
      "<class 'pandas.core.frame.DataFrame'>\n",
      "RangeIndex: 65392 entries, 0 to 65391\n",
      "Data columns (total 20 columns):\n",
      " #   Column                 Non-Null Count  Dtype         \n",
      "---  ------                 --------------  -----         \n",
      " 0   VendorID               65392 non-null  int32         \n",
      " 1   lpep_pickup_datetime   65392 non-null  datetime64[ns]\n",
      " 2   lpep_dropoff_datetime  65392 non-null  datetime64[ns]\n",
      " 3   store_and_fwd_flag     60910 non-null  object        \n",
      " 4   RatecodeID             60910 non-null  float64       \n",
      " 5   PULocationID           65392 non-null  int32         \n",
      " 6   DOLocationID           65392 non-null  int32         \n",
      " 7   passenger_count        60910 non-null  float64       \n",
      " 8   trip_distance          65392 non-null  float64       \n",
      " 9   fare_amount            65392 non-null  float64       \n",
      " 10  extra                  65392 non-null  float64       \n",
      " 11  mta_tax                65392 non-null  float64       \n",
      " 12  tip_amount             65392 non-null  float64       \n",
      " 13  tolls_amount           65392 non-null  float64       \n",
      " 14  ehail_fee              0 non-null      float64       \n",
      " 15  improvement_surcharge  65392 non-null  float64       \n",
      " 16  total_amount           65392 non-null  float64       \n",
      " 17  payment_type           60910 non-null  float64       \n",
      " 18  trip_type              60907 non-null  float64       \n",
      " 19  congestion_surcharge   60910 non-null  float64       \n",
      "dtypes: datetime64[ns](2), float64(14), int32(3), object(1)\n",
      "memory usage: 9.2+ MB\n"
     ]
    }
   ],
   "source": [
    "green.info(show_counts=True)"
   ]
  },
  {
   "cell_type": "code",
   "execution_count": 7,
   "metadata": {},
   "outputs": [
    {
     "data": {
      "text/html": [
       "<div>\n",
       "<style scoped>\n",
       "    .dataframe tbody tr th:only-of-type {\n",
       "        vertical-align: middle;\n",
       "    }\n",
       "\n",
       "    .dataframe tbody tr th {\n",
       "        vertical-align: top;\n",
       "    }\n",
       "\n",
       "    .dataframe thead th {\n",
       "        text-align: right;\n",
       "    }\n",
       "</style>\n",
       "<table border=\"1\" class=\"dataframe\">\n",
       "  <thead>\n",
       "    <tr style=\"text-align: right;\">\n",
       "      <th></th>\n",
       "      <th>VendorID</th>\n",
       "      <th>lpep_pickup_datetime</th>\n",
       "      <th>lpep_dropoff_datetime</th>\n",
       "      <th>store_and_fwd_flag</th>\n",
       "      <th>RatecodeID</th>\n",
       "      <th>PULocationID</th>\n",
       "      <th>DOLocationID</th>\n",
       "      <th>passenger_count</th>\n",
       "      <th>trip_distance</th>\n",
       "      <th>fare_amount</th>\n",
       "      <th>extra</th>\n",
       "      <th>mta_tax</th>\n",
       "      <th>tip_amount</th>\n",
       "      <th>tolls_amount</th>\n",
       "      <th>ehail_fee</th>\n",
       "      <th>improvement_surcharge</th>\n",
       "      <th>total_amount</th>\n",
       "      <th>payment_type</th>\n",
       "      <th>trip_type</th>\n",
       "      <th>congestion_surcharge</th>\n",
       "    </tr>\n",
       "  </thead>\n",
       "  <tbody>\n",
       "    <tr>\n",
       "      <th>22715</th>\n",
       "      <td>1</td>\n",
       "      <td>2023-04-12 12:49:07</td>\n",
       "      <td>2023-04-12 13:15:46</td>\n",
       "      <td>N</td>\n",
       "      <td>1.0</td>\n",
       "      <td>4</td>\n",
       "      <td>193</td>\n",
       "      <td>1.0</td>\n",
       "      <td>0.0</td>\n",
       "      <td>27.5</td>\n",
       "      <td>0.0</td>\n",
       "      <td>1.5</td>\n",
       "      <td>0.0</td>\n",
       "      <td>0.0</td>\n",
       "      <td>NaN</td>\n",
       "      <td>1.0</td>\n",
       "      <td>29.0</td>\n",
       "      <td>1.0</td>\n",
       "      <td>1.0</td>\n",
       "      <td>0.0</td>\n",
       "    </tr>\n",
       "    <tr>\n",
       "      <th>24879</th>\n",
       "      <td>1</td>\n",
       "      <td>2023-04-13 13:45:32</td>\n",
       "      <td>2023-04-13 14:20:01</td>\n",
       "      <td>N</td>\n",
       "      <td>1.0</td>\n",
       "      <td>4</td>\n",
       "      <td>169</td>\n",
       "      <td>1.0</td>\n",
       "      <td>0.0</td>\n",
       "      <td>31.2</td>\n",
       "      <td>0.0</td>\n",
       "      <td>1.5</td>\n",
       "      <td>0.0</td>\n",
       "      <td>0.0</td>\n",
       "      <td>NaN</td>\n",
       "      <td>1.0</td>\n",
       "      <td>32.7</td>\n",
       "      <td>1.0</td>\n",
       "      <td>1.0</td>\n",
       "      <td>0.0</td>\n",
       "    </tr>\n",
       "    <tr>\n",
       "      <th>41192</th>\n",
       "      <td>1</td>\n",
       "      <td>2023-04-21 12:51:23</td>\n",
       "      <td>2023-04-21 12:58:17</td>\n",
       "      <td>N</td>\n",
       "      <td>1.0</td>\n",
       "      <td>4</td>\n",
       "      <td>232</td>\n",
       "      <td>1.0</td>\n",
       "      <td>0.0</td>\n",
       "      <td>16.5</td>\n",
       "      <td>0.0</td>\n",
       "      <td>1.5</td>\n",
       "      <td>0.0</td>\n",
       "      <td>0.0</td>\n",
       "      <td>NaN</td>\n",
       "      <td>1.0</td>\n",
       "      <td>18.0</td>\n",
       "      <td>1.0</td>\n",
       "      <td>1.0</td>\n",
       "      <td>0.0</td>\n",
       "    </tr>\n",
       "  </tbody>\n",
       "</table>\n",
       "</div>"
      ],
      "text/plain": [
       "       VendorID lpep_pickup_datetime lpep_dropoff_datetime store_and_fwd_flag  \\\n",
       "22715         1  2023-04-12 12:49:07   2023-04-12 13:15:46                  N   \n",
       "24879         1  2023-04-13 13:45:32   2023-04-13 14:20:01                  N   \n",
       "41192         1  2023-04-21 12:51:23   2023-04-21 12:58:17                  N   \n",
       "\n",
       "       RatecodeID  PULocationID  DOLocationID  passenger_count  trip_distance  \\\n",
       "22715         1.0             4           193              1.0            0.0   \n",
       "24879         1.0             4           169              1.0            0.0   \n",
       "41192         1.0             4           232              1.0            0.0   \n",
       "\n",
       "       fare_amount  extra  mta_tax  tip_amount  tolls_amount  ehail_fee  \\\n",
       "22715         27.5    0.0      1.5         0.0           0.0        NaN   \n",
       "24879         31.2    0.0      1.5         0.0           0.0        NaN   \n",
       "41192         16.5    0.0      1.5         0.0           0.0        NaN   \n",
       "\n",
       "       improvement_surcharge  total_amount  payment_type  trip_type  \\\n",
       "22715                    1.0          29.0           1.0        1.0   \n",
       "24879                    1.0          32.7           1.0        1.0   \n",
       "41192                    1.0          18.0           1.0        1.0   \n",
       "\n",
       "       congestion_surcharge  \n",
       "22715                   0.0  \n",
       "24879                   0.0  \n",
       "41192                   0.0  "
      ]
     },
     "execution_count": 7,
     "metadata": {},
     "output_type": "execute_result"
    }
   ],
   "source": [
    "green[green.PULocationID == 4]"
   ]
  },
  {
   "cell_type": "code",
   "execution_count": 6,
   "metadata": {},
   "outputs": [
    {
     "data": {
      "text/plain": [
       "(1246479, 7)"
      ]
     },
     "execution_count": 6,
     "metadata": {},
     "output_type": "execute_result"
    }
   ],
   "source": [
    "fhv = pd.read_parquet('../fhv_tripdata_2023-04.parquet', engine='pyarrow')\n",
    "fhv.shape"
   ]
  }
 ],
 "metadata": {
  "kernelspec": {
   "display_name": "test_parquet",
   "language": "python",
   "name": "python3"
  },
  "language_info": {
   "codemirror_mode": {
    "name": "ipython",
    "version": 3
   },
   "file_extension": ".py",
   "mimetype": "text/x-python",
   "name": "python",
   "nbconvert_exporter": "python",
   "pygments_lexer": "ipython3",
   "version": "3.10.12"
  },
  "orig_nbformat": 4
 },
 "nbformat": 4,
 "nbformat_minor": 2
}
