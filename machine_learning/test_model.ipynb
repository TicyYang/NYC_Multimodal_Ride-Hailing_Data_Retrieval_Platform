{
 "cells": [
  {
   "cell_type": "code",
   "execution_count": 1,
   "id": "45ccb979",
   "metadata": {},
   "outputs": [],
   "source": [
    "import numpy as np\n",
    "import pandas as pd\n",
    "import matplotlib.pyplot as plt\n",
    "import seaborn as sns\n",
    "sns.set_style('darkgrid')\n",
    "import time"
   ]
  },
  {
   "cell_type": "code",
   "execution_count": 2,
   "id": "a54aa242",
   "metadata": {
    "scrolled": false
   },
   "outputs": [
    {
     "name": "stdout",
     "output_type": "stream",
     "text": [
      "執行時間: 0.41016674041748047 秒\n"
     ]
    }
   ],
   "source": [
    "start_time = time.time()\n",
    "\n",
    "\n",
    "df = pd.read_parquet('../time_seires/year/dfTime_TLC-2022.parquet', engine='pyarrow')\n",
    "df.head(10)\n",
    "\n",
    "\n",
    "end_time = time.time()\n",
    "execution_time = end_time - start_time\n",
    "print(\"執行時間:\", execution_time, \"秒\")"
   ]
  },
  {
   "cell_type": "code",
   "execution_count": 3,
   "id": "642043ab",
   "metadata": {},
   "outputs": [
    {
     "data": {
      "text/plain": [
       "(5100018, 9)"
      ]
     },
     "execution_count": 3,
     "metadata": {},
     "output_type": "execute_result"
    }
   ],
   "source": [
    "df.shape"
   ]
  },
  {
   "cell_type": "code",
   "execution_count": 4,
   "id": "45b3762a",
   "metadata": {},
   "outputs": [
    {
     "data": {
      "text/html": [
       "<div>\n",
       "<style scoped>\n",
       "    .dataframe tbody tr th:only-of-type {\n",
       "        vertical-align: middle;\n",
       "    }\n",
       "\n",
       "    .dataframe tbody tr th {\n",
       "        vertical-align: top;\n",
       "    }\n",
       "\n",
       "    .dataframe thead th {\n",
       "        text-align: right;\n",
       "    }\n",
       "</style>\n",
       "<table border=\"1\" class=\"dataframe\">\n",
       "  <thead>\n",
       "    <tr style=\"text-align: right;\">\n",
       "      <th></th>\n",
       "      <th>Name</th>\n",
       "      <th>year</th>\n",
       "      <th>month</th>\n",
       "      <th>day</th>\n",
       "      <th>hour</th>\n",
       "      <th>weekday</th>\n",
       "      <th>PULocationID</th>\n",
       "      <th>is_holiday</th>\n",
       "      <th>次數</th>\n",
       "    </tr>\n",
       "  </thead>\n",
       "  <tbody>\n",
       "    <tr>\n",
       "      <th>0</th>\n",
       "      <td>uber</td>\n",
       "      <td>2022</td>\n",
       "      <td>1</td>\n",
       "      <td>1</td>\n",
       "      <td>0</td>\n",
       "      <td>5</td>\n",
       "      <td>3</td>\n",
       "      <td>True</td>\n",
       "      <td>39</td>\n",
       "    </tr>\n",
       "    <tr>\n",
       "      <th>1</th>\n",
       "      <td>uber</td>\n",
       "      <td>2022</td>\n",
       "      <td>1</td>\n",
       "      <td>1</td>\n",
       "      <td>1</td>\n",
       "      <td>5</td>\n",
       "      <td>3</td>\n",
       "      <td>True</td>\n",
       "      <td>44</td>\n",
       "    </tr>\n",
       "    <tr>\n",
       "      <th>2</th>\n",
       "      <td>uber</td>\n",
       "      <td>2022</td>\n",
       "      <td>1</td>\n",
       "      <td>1</td>\n",
       "      <td>2</td>\n",
       "      <td>5</td>\n",
       "      <td>3</td>\n",
       "      <td>True</td>\n",
       "      <td>38</td>\n",
       "    </tr>\n",
       "    <tr>\n",
       "      <th>3</th>\n",
       "      <td>uber</td>\n",
       "      <td>2022</td>\n",
       "      <td>1</td>\n",
       "      <td>1</td>\n",
       "      <td>3</td>\n",
       "      <td>5</td>\n",
       "      <td>3</td>\n",
       "      <td>True</td>\n",
       "      <td>31</td>\n",
       "    </tr>\n",
       "    <tr>\n",
       "      <th>4</th>\n",
       "      <td>uber</td>\n",
       "      <td>2022</td>\n",
       "      <td>1</td>\n",
       "      <td>1</td>\n",
       "      <td>4</td>\n",
       "      <td>5</td>\n",
       "      <td>3</td>\n",
       "      <td>True</td>\n",
       "      <td>24</td>\n",
       "    </tr>\n",
       "  </tbody>\n",
       "</table>\n",
       "</div>"
      ],
      "text/plain": [
       "   Name  year  month  day  hour  weekday  PULocationID  is_holiday  次數\n",
       "0  uber  2022      1    1     0        5             3        True  39\n",
       "1  uber  2022      1    1     1        5             3        True  44\n",
       "2  uber  2022      1    1     2        5             3        True  38\n",
       "3  uber  2022      1    1     3        5             3        True  31\n",
       "4  uber  2022      1    1     4        5             3        True  24"
      ]
     },
     "execution_count": 4,
     "metadata": {},
     "output_type": "execute_result"
    }
   ],
   "source": [
    "uber = df[(df['Name'] == 'uber') & (df['PULocationID'] == 3)].reset_index(drop=True)\n",
    "uber.head()"
   ]
  },
  {
   "cell_type": "code",
   "execution_count": 5,
   "id": "c5dfc04f",
   "metadata": {},
   "outputs": [
    {
     "data": {
      "text/plain": [
       "(8758, 9)"
      ]
     },
     "execution_count": 5,
     "metadata": {},
     "output_type": "execute_result"
    }
   ],
   "source": [
    "uber.shape"
   ]
  },
  {
   "cell_type": "code",
   "execution_count": 6,
   "id": "6d133f39",
   "metadata": {},
   "outputs": [
    {
     "data": {
      "text/html": [
       "<div>\n",
       "<style scoped>\n",
       "    .dataframe tbody tr th:only-of-type {\n",
       "        vertical-align: middle;\n",
       "    }\n",
       "\n",
       "    .dataframe tbody tr th {\n",
       "        vertical-align: top;\n",
       "    }\n",
       "\n",
       "    .dataframe thead th {\n",
       "        text-align: right;\n",
       "    }\n",
       "</style>\n",
       "<table border=\"1\" class=\"dataframe\">\n",
       "  <thead>\n",
       "    <tr style=\"text-align: right;\">\n",
       "      <th></th>\n",
       "      <th>Name</th>\n",
       "      <th>year</th>\n",
       "      <th>month</th>\n",
       "      <th>day</th>\n",
       "      <th>hour</th>\n",
       "      <th>weekday</th>\n",
       "      <th>PULocationID</th>\n",
       "      <th>is_holiday</th>\n",
       "      <th>次數</th>\n",
       "    </tr>\n",
       "  </thead>\n",
       "  <tbody>\n",
       "    <tr>\n",
       "      <th>8748</th>\n",
       "      <td>uber</td>\n",
       "      <td>2022</td>\n",
       "      <td>12</td>\n",
       "      <td>31</td>\n",
       "      <td>14</td>\n",
       "      <td>5</td>\n",
       "      <td>3</td>\n",
       "      <td>True</td>\n",
       "      <td>56</td>\n",
       "    </tr>\n",
       "    <tr>\n",
       "      <th>8749</th>\n",
       "      <td>uber</td>\n",
       "      <td>2022</td>\n",
       "      <td>12</td>\n",
       "      <td>31</td>\n",
       "      <td>15</td>\n",
       "      <td>5</td>\n",
       "      <td>3</td>\n",
       "      <td>True</td>\n",
       "      <td>60</td>\n",
       "    </tr>\n",
       "    <tr>\n",
       "      <th>8750</th>\n",
       "      <td>uber</td>\n",
       "      <td>2022</td>\n",
       "      <td>12</td>\n",
       "      <td>31</td>\n",
       "      <td>16</td>\n",
       "      <td>5</td>\n",
       "      <td>3</td>\n",
       "      <td>True</td>\n",
       "      <td>60</td>\n",
       "    </tr>\n",
       "    <tr>\n",
       "      <th>8751</th>\n",
       "      <td>uber</td>\n",
       "      <td>2022</td>\n",
       "      <td>12</td>\n",
       "      <td>31</td>\n",
       "      <td>17</td>\n",
       "      <td>5</td>\n",
       "      <td>3</td>\n",
       "      <td>True</td>\n",
       "      <td>51</td>\n",
       "    </tr>\n",
       "    <tr>\n",
       "      <th>8752</th>\n",
       "      <td>uber</td>\n",
       "      <td>2022</td>\n",
       "      <td>12</td>\n",
       "      <td>31</td>\n",
       "      <td>18</td>\n",
       "      <td>5</td>\n",
       "      <td>3</td>\n",
       "      <td>True</td>\n",
       "      <td>56</td>\n",
       "    </tr>\n",
       "    <tr>\n",
       "      <th>8753</th>\n",
       "      <td>uber</td>\n",
       "      <td>2022</td>\n",
       "      <td>12</td>\n",
       "      <td>31</td>\n",
       "      <td>19</td>\n",
       "      <td>5</td>\n",
       "      <td>3</td>\n",
       "      <td>True</td>\n",
       "      <td>77</td>\n",
       "    </tr>\n",
       "    <tr>\n",
       "      <th>8754</th>\n",
       "      <td>uber</td>\n",
       "      <td>2022</td>\n",
       "      <td>12</td>\n",
       "      <td>31</td>\n",
       "      <td>20</td>\n",
       "      <td>5</td>\n",
       "      <td>3</td>\n",
       "      <td>True</td>\n",
       "      <td>63</td>\n",
       "    </tr>\n",
       "    <tr>\n",
       "      <th>8755</th>\n",
       "      <td>uber</td>\n",
       "      <td>2022</td>\n",
       "      <td>12</td>\n",
       "      <td>31</td>\n",
       "      <td>21</td>\n",
       "      <td>5</td>\n",
       "      <td>3</td>\n",
       "      <td>True</td>\n",
       "      <td>53</td>\n",
       "    </tr>\n",
       "    <tr>\n",
       "      <th>8756</th>\n",
       "      <td>uber</td>\n",
       "      <td>2022</td>\n",
       "      <td>12</td>\n",
       "      <td>31</td>\n",
       "      <td>22</td>\n",
       "      <td>5</td>\n",
       "      <td>3</td>\n",
       "      <td>True</td>\n",
       "      <td>58</td>\n",
       "    </tr>\n",
       "    <tr>\n",
       "      <th>8757</th>\n",
       "      <td>uber</td>\n",
       "      <td>2022</td>\n",
       "      <td>12</td>\n",
       "      <td>31</td>\n",
       "      <td>23</td>\n",
       "      <td>5</td>\n",
       "      <td>3</td>\n",
       "      <td>True</td>\n",
       "      <td>50</td>\n",
       "    </tr>\n",
       "  </tbody>\n",
       "</table>\n",
       "</div>"
      ],
      "text/plain": [
       "      Name  year  month  day  hour  weekday  PULocationID  is_holiday  次數\n",
       "8748  uber  2022     12   31    14        5             3        True  56\n",
       "8749  uber  2022     12   31    15        5             3        True  60\n",
       "8750  uber  2022     12   31    16        5             3        True  60\n",
       "8751  uber  2022     12   31    17        5             3        True  51\n",
       "8752  uber  2022     12   31    18        5             3        True  56\n",
       "8753  uber  2022     12   31    19        5             3        True  77\n",
       "8754  uber  2022     12   31    20        5             3        True  63\n",
       "8755  uber  2022     12   31    21        5             3        True  53\n",
       "8756  uber  2022     12   31    22        5             3        True  58\n",
       "8757  uber  2022     12   31    23        5             3        True  50"
      ]
     },
     "execution_count": 6,
     "metadata": {},
     "output_type": "execute_result"
    }
   ],
   "source": [
    "uber.tail(10)"
   ]
  },
  {
   "cell_type": "code",
   "execution_count": 7,
   "id": "5dd96342",
   "metadata": {},
   "outputs": [
    {
     "data": {
      "text/plain": [
       "0         1/1\n",
       "1         1/1\n",
       "2         1/1\n",
       "3         1/1\n",
       "4         1/1\n",
       "        ...  \n",
       "8753    12/31\n",
       "8754    12/31\n",
       "8755    12/31\n",
       "8756    12/31\n",
       "8757    12/31\n",
       "Name: date, Length: 8758, dtype: object"
      ]
     },
     "execution_count": 7,
     "metadata": {},
     "output_type": "execute_result"
    }
   ],
   "source": [
    "uber['date'] = uber['month'].astype('str') + '/' + uber['day'].astype('str')\n",
    "uber['date']\n",
    "\n",
    "# import plotly.express as px\n",
    "# fig = px.line(uber, y='次數')\n",
    "# fig.show()"
   ]
  },
  {
   "cell_type": "markdown",
   "id": "15bc0993",
   "metadata": {},
   "source": [
    "# Keras LSTM"
   ]
  },
  {
   "cell_type": "code",
   "execution_count": 8,
   "id": "e8c8b7b0",
   "metadata": {},
   "outputs": [],
   "source": [
    "# from sklearn.preprocessing import MinMaxScaler\n",
    "\n",
    "# training_set = uber['次數'].values.reshape(-1, 1)\n",
    "\n",
    "\n",
    "# scaler = MinMaxScaler()\n",
    "# training_set_scaled = scaler.fit_transform(training_set)"
   ]
  },
  {
   "cell_type": "code",
   "execution_count": 9,
   "id": "bb02e91a",
   "metadata": {},
   "outputs": [],
   "source": [
    "# X_train = []   #預測點的前 60 天的資料\n",
    "# y_train = []   #預測點\n",
    "# for i in range(48, 7000):  # 1258 是訓練集總數\n",
    "#     X_train.append(training_set_scaled[i-48:i, 0])\n",
    "#     y_train.append(training_set_scaled[i, 0])\n",
    "# X_train, y_train = np.array(X_train), np.array(y_train)"
   ]
  },
  {
   "cell_type": "code",
   "execution_count": 10,
   "id": "dad74067",
   "metadata": {},
   "outputs": [],
   "source": [
    "# X_train = np.reshape(X_train, (X_train.shape[0], X_train.shape[1], 1))"
   ]
  },
  {
   "cell_type": "code",
   "execution_count": 11,
   "id": "65f5bb9c",
   "metadata": {},
   "outputs": [],
   "source": [
    "# from keras.models import Sequential\n",
    "# from keras.layers import Dense\n",
    "# from keras.layers import LSTM\n",
    "# from keras.layers import Dropout\n",
    "\n",
    "# regressor = Sequential()"
   ]
  },
  {
   "cell_type": "code",
   "execution_count": 12,
   "id": "2e74a139",
   "metadata": {},
   "outputs": [],
   "source": [
    "# regressor.add(LSTM(units=50, return_sequences=True, input_shape=(X_train.shape[1], 1)))\n",
    "# regressor.add(Dropout(0.2))\n",
    "\n",
    "# regressor.add(LSTM(units=50, return_sequences=True))\n",
    "# regressor.add(Dropout(0.2))\n",
    "\n",
    "# regressor.add(LSTM(units=50, return_sequences=True))\n",
    "# regressor.add(Dropout(0.2))\n",
    "\n",
    "# regressor.add(LSTM(units=50))\n",
    "# regressor.add(Dropout(0.2))\n",
    "\n",
    "# regressor.add(Dense(units=1))"
   ]
  },
  {
   "cell_type": "code",
   "execution_count": 13,
   "id": "b54214a1",
   "metadata": {},
   "outputs": [],
   "source": [
    "# regressor.compile(optimizer='adam', loss='mean_squared_error')\n",
    "\n",
    "# 進行訓練\n",
    "# history = regressor.fit(X_train, y_train, epochs=50, batch_size=32)"
   ]
  },
  {
   "cell_type": "markdown",
   "id": "254def4c",
   "metadata": {},
   "source": [
    "## scikit-learn"
   ]
  },
  {
   "cell_type": "code",
   "execution_count": 14,
   "id": "c21eaa8b",
   "metadata": {},
   "outputs": [
    {
     "data": {
      "text/html": [
       "<div>\n",
       "<style scoped>\n",
       "    .dataframe tbody tr th:only-of-type {\n",
       "        vertical-align: middle;\n",
       "    }\n",
       "\n",
       "    .dataframe tbody tr th {\n",
       "        vertical-align: top;\n",
       "    }\n",
       "\n",
       "    .dataframe thead th {\n",
       "        text-align: right;\n",
       "    }\n",
       "</style>\n",
       "<table border=\"1\" class=\"dataframe\">\n",
       "  <thead>\n",
       "    <tr style=\"text-align: right;\">\n",
       "      <th></th>\n",
       "      <th>Name</th>\n",
       "      <th>year</th>\n",
       "      <th>month</th>\n",
       "      <th>day</th>\n",
       "      <th>hour</th>\n",
       "      <th>weekday</th>\n",
       "      <th>PULocationID</th>\n",
       "      <th>is_holiday</th>\n",
       "      <th>次數</th>\n",
       "    </tr>\n",
       "  </thead>\n",
       "  <tbody>\n",
       "    <tr>\n",
       "      <th>0</th>\n",
       "      <td>lyft</td>\n",
       "      <td>2022</td>\n",
       "      <td>1</td>\n",
       "      <td>1</td>\n",
       "      <td>0</td>\n",
       "      <td>5</td>\n",
       "      <td>3</td>\n",
       "      <td>True</td>\n",
       "      <td>16</td>\n",
       "    </tr>\n",
       "    <tr>\n",
       "      <th>1</th>\n",
       "      <td>lyft</td>\n",
       "      <td>2022</td>\n",
       "      <td>1</td>\n",
       "      <td>1</td>\n",
       "      <td>0</td>\n",
       "      <td>5</td>\n",
       "      <td>4</td>\n",
       "      <td>True</td>\n",
       "      <td>49</td>\n",
       "    </tr>\n",
       "    <tr>\n",
       "      <th>2</th>\n",
       "      <td>lyft</td>\n",
       "      <td>2022</td>\n",
       "      <td>1</td>\n",
       "      <td>1</td>\n",
       "      <td>0</td>\n",
       "      <td>5</td>\n",
       "      <td>5</td>\n",
       "      <td>True</td>\n",
       "      <td>1</td>\n",
       "    </tr>\n",
       "    <tr>\n",
       "      <th>3</th>\n",
       "      <td>lyft</td>\n",
       "      <td>2022</td>\n",
       "      <td>1</td>\n",
       "      <td>1</td>\n",
       "      <td>0</td>\n",
       "      <td>5</td>\n",
       "      <td>6</td>\n",
       "      <td>True</td>\n",
       "      <td>1</td>\n",
       "    </tr>\n",
       "    <tr>\n",
       "      <th>4</th>\n",
       "      <td>lyft</td>\n",
       "      <td>2022</td>\n",
       "      <td>1</td>\n",
       "      <td>1</td>\n",
       "      <td>0</td>\n",
       "      <td>5</td>\n",
       "      <td>7</td>\n",
       "      <td>True</td>\n",
       "      <td>115</td>\n",
       "    </tr>\n",
       "  </tbody>\n",
       "</table>\n",
       "</div>"
      ],
      "text/plain": [
       "   Name  year  month  day  hour  weekday  PULocationID  is_holiday   次數\n",
       "0  lyft  2022      1    1     0        5             3        True   16\n",
       "1  lyft  2022      1    1     0        5             4        True   49\n",
       "2  lyft  2022      1    1     0        5             5        True    1\n",
       "3  lyft  2022      1    1     0        5             6        True    1\n",
       "4  lyft  2022      1    1     0        5             7        True  115"
      ]
     },
     "execution_count": 14,
     "metadata": {},
     "output_type": "execute_result"
    }
   ],
   "source": [
    "df.head()"
   ]
  },
  {
   "cell_type": "code",
   "execution_count": 15,
   "id": "9bd13b07",
   "metadata": {},
   "outputs": [
    {
     "data": {
      "text/plain": [
       "(5100018, 9)"
      ]
     },
     "execution_count": 15,
     "metadata": {},
     "output_type": "execute_result"
    }
   ],
   "source": [
    "df.shape"
   ]
  },
  {
   "cell_type": "code",
   "execution_count": 16,
   "id": "90e52e55",
   "metadata": {},
   "outputs": [
    {
     "data": {
      "text/plain": [
       "1    2177568\n",
       "0    2115281\n",
       "2     807169\n",
       "Name: Name, dtype: int64"
      ]
     },
     "execution_count": 16,
     "metadata": {},
     "output_type": "execute_result"
    }
   ],
   "source": [
    "from sklearn.preprocessing import LabelEncoder\n",
    "label = LabelEncoder()\n",
    "df['Name'] = label.fit_transform(df['Name'])\n",
    "\n",
    "df['Name'].value_counts()"
   ]
  },
  {
   "cell_type": "code",
   "execution_count": 17,
   "id": "6cd93777",
   "metadata": {},
   "outputs": [
    {
     "name": "stdout",
     "output_type": "stream",
     "text": [
      "<class 'pandas.core.frame.DataFrame'>\n",
      "RangeIndex: 5100018 entries, 0 to 5100017\n",
      "Data columns (total 8 columns):\n",
      " #   Column        Dtype\n",
      "---  ------        -----\n",
      " 0   Name          int32\n",
      " 1   month         int32\n",
      " 2   day           int32\n",
      " 3   hour          int32\n",
      " 4   weekday       int32\n",
      " 5   PULocationID  int64\n",
      " 6   is_holiday    int32\n",
      " 7   count         int64\n",
      "dtypes: int32(6), int64(2)\n",
      "memory usage: 194.6 MB\n"
     ]
    }
   ],
   "source": [
    "df = df.drop('year', axis=1)\n",
    "df = df.astype({'is_holiday': 'int'})\n",
    "df = df.rename(columns={'次數': 'count'})\n",
    "df.info()"
   ]
  },
  {
   "cell_type": "code",
   "execution_count": 18,
   "id": "db1a33bb",
   "metadata": {},
   "outputs": [],
   "source": [
    "from sklearn.preprocessing import StandardScaler\n",
    "from sklearn.preprocessing import MinMaxScaler\n",
    "from sklearn.metrics import mean_absolute_error, r2_score\n",
    "from sklearn.model_selection import train_test_split\n",
    "from sklearn.model_selection import cross_val_score, KFold, train_test_split\n",
    "from sklearn.neighbors import KNeighborsRegressor\n",
    "from sklearn.svm import SVR\n",
    "from sklearn.tree import DecisionTreeRegressor\n",
    "from sklearn.ensemble import RandomForestRegressor\n",
    "from xgboost import XGBRegressor\n",
    "from lightgbm import LGBMRegressor\n",
    "\n",
    "\n",
    "\n",
    "X = df.drop('count', axis=1)\n",
    "y = df['count']\n",
    "\n",
    "X_train, X_test, y_train, y_test = train_test_split(X, y, test_size=0.2, random_state=42)\n",
    "\n",
    "scaler = MinMaxScaler()\n",
    "X_train_scaled = scaler.fit_transform(X_train)\n",
    "X_test_scaled = scaler.fit_transform(X_test)\n",
    "\n",
    "\n",
    "# models = {'KNN': KNeighborsRegressor(),\n",
    "#           'SVR': SVR(),\n",
    "#           'Decision Tree': DecisionTreeRegressor(), \n",
    "#           'RandomForest': RandomForestRegressor(),\n",
    "#           'XGBoost': XGBRegressor(n_estimators=500, \n",
    "#                                   learning_rate=0.05, \n",
    "#                                   n_jobs=-1, \n",
    "#                                   random_state=0),\n",
    "#           'LightGBM': LGBMRegressor(n_estimators=500, \n",
    "#                                     learning_rate=0.1, \n",
    "#                                     n_jobs=-1, \n",
    "#                                     random_state=0)}\n",
    "# results = []\n",
    "\n",
    "# for model in models.values():\n",
    "#     kf = KFold(n_splits=6, random_state=42, shuffle=True)\n",
    "#     cv_results = cross_val_score(model, X_train_scaled, y_train, cv=kf)\n",
    "#     results.append(cv_results)\n",
    "\n",
    "# # plt.boxplot(results, labels=models.keys())\n",
    "# sns.boxplot(results, x=models.keys())\n",
    "# plt.show()"
   ]
  },
  {
   "cell_type": "code",
   "execution_count": 19,
   "id": "79983f3d",
   "metadata": {},
   "outputs": [],
   "source": [
    "# model = RandomForestRegressor(random_state=1, n_jobs=-1)\n",
    "# model.fit(X_train, y_train)\n",
    "\n",
    "# y_pred = model.predict(X_test)\n",
    "\n",
    "# mae = mean_absolute_error(y_test, y_pred)\n",
    "# r2 = r2_score(y_test, y_pred)\n",
    "# print(f'MAE: {mae}\\nR2: {r2}')"
   ]
  },
  {
   "cell_type": "markdown",
   "id": "c6e35d61",
   "metadata": {},
   "source": [
    "## LightGBM"
   ]
  },
  {
   "cell_type": "code",
   "execution_count": null,
   "id": "eecf50fb",
   "metadata": {
    "scrolled": true
   },
   "outputs": [
    {
     "name": "stderr",
     "output_type": "stream",
     "text": [
      "C:\\Users\\Ticy\\anaconda3\\envs\\fhv\\lib\\site-packages\\joblib\\externals\\loky\\backend\\context.py:110: UserWarning: Could not find the number of physical cores for the following reason:\n",
      "found 0 physical cores < 1\n",
      "Returning the number of logical cores instead. You can silence this warning by setting LOKY_MAX_CPU_COUNT to the number of cores you want to use.\n",
      "  warnings.warn(\n",
      "  File \"C:\\Users\\Ticy\\anaconda3\\envs\\fhv\\lib\\site-packages\\joblib\\externals\\loky\\backend\\context.py\", line 217, in _count_physical_cores\n",
      "    raise ValueError(\n"
     ]
    },
    {
     "name": "stdout",
     "output_type": "stream",
     "text": [
      "[LightGBM] [Warning] Auto-choosing row-wise multi-threading, the overhead of testing was 0.025032 seconds.\n",
      "You can set `force_row_wise=true` to remove the overhead.\n",
      "And if memory is not enough, you can set `force_col_wise=true`.\n",
      "[LightGBM] [Info] Total Bins 324\n",
      "[LightGBM] [Info] Number of data points in the train set: 3264011, number of used features: 7\n",
      "[LightGBM] [Info] Start training from score 49.191474\n"
     ]
    }
   ],
   "source": [
    "start_time = time.time()\n",
    "\n",
    "\n",
    "from sklearn.model_selection import GridSearchCV\n",
    "kf = KFold(n_splits=5, shuffle=True, random_state=42)\n",
    "param_grid = {'n_estimators': range(100, 501, 100),\n",
    "              'learning_rate': np.logspace(0, -2, 3), \n",
    "              'max_depth': range(3, 20, 2)}\n",
    "\n",
    "lgbm = LGBMRegressor(random_state=0)\n",
    "\n",
    "model_cv = GridSearchCV(lgbm, param_grid, cv=kf)\n",
    "model_cv.fit(X_train, y_train)\n",
    "print(model_cv.best_params_, model_cv.best_score_)\n",
    "\n",
    "\n",
    "end_time = time.time()\n",
    "execution_time = end_time - start_time\n",
    "print(\"執行時間:\", execution_time, \"秒\")"
   ]
  },
  {
   "cell_type": "code",
   "execution_count": null,
   "id": "53ce399b",
   "metadata": {},
   "outputs": [],
   "source": [
    "# start_time = time.time()\n",
    "\n",
    "\n",
    "# model = LGBMRegressor(n_estimators=1000, \n",
    "#                       learning_rate=0.1, \n",
    "#                       subsample=0.6\n",
    "#                       random_state=0)\n",
    "# model.fit(X_train, y_train)\n",
    "\n",
    "# y_pred = model.predict(X_test)\n",
    "\n",
    "# mae = mean_absolute_error(y_test, y_pred)\n",
    "# r2 = r2_score(y_test, y_pred)\n",
    "\n",
    "# print(f'MAE: {mae}\\nR2: {r2}')\n",
    "\n",
    "\n",
    "# end_time = time.time()\n",
    "# execution_time = end_time - start_time\n",
    "# print(\"執行時間:\", execution_time, \"秒\")"
   ]
  },
  {
   "cell_type": "markdown",
   "id": "34110278",
   "metadata": {},
   "source": [
    "## XGBoost"
   ]
  },
  {
   "cell_type": "code",
   "execution_count": null,
   "id": "67401057",
   "metadata": {
    "scrolled": true
   },
   "outputs": [],
   "source": [
    "start_time = time.time()\n",
    "\n",
    "\n",
    "from sklearn.model_selection import GridSearchCV\n",
    "kf = KFold(n_splits=5, shuffle=True, random_state=42)\n",
    "param_grid = {'n_estimators': range(100, 501, 100),\n",
    "              'learning_rate': np.logspace(0,-2, 3)}\n",
    "\n",
    "xgbr = XGBRegressor(random_state=0)\n",
    "\n",
    "model_cv = GridSearchCV(xgbr, param_grid, cv=kf)\n",
    "model_cv.fit(X_train, y_train)\n",
    "\n",
    "# 查看表現最好的超參數和平均交叉驗證分數\n",
    "print(model_cv.best_params_, model_cv.best_score_)\n",
    "\n",
    "\n",
    "end_time = time.time()\n",
    "execution_time = end_time - start_time\n",
    "print(\"執行時間:\", execution_time, \"秒\")"
   ]
  },
  {
   "cell_type": "code",
   "execution_count": null,
   "id": "a30023bf",
   "metadata": {},
   "outputs": [],
   "source": [
    "# model = XGBRegressor(n_estimators=1000, learning_rate=0.1, n_jobs=-1, random_state=0)\n",
    "# model.fit(X_train, y_train)\n",
    "\n",
    "# y_pred = model.predict(X_test)\n",
    "\n",
    "# mae = mean_absolute_error(y_test, y_pred)\n",
    "# r2 = r2_score(y_test, y_pred)\n",
    "\n",
    "# print(f'MAE: {mae}\\nR2: {r2}')"
   ]
  },
  {
   "cell_type": "code",
   "execution_count": null,
   "id": "1bd504ee",
   "metadata": {},
   "outputs": [
    {
     "name": "stderr",
     "output_type": "stream",
     "text": [
      "\r",
      "  0%|          | 0/42 [00:00<?, ?it/s]"
     ]
    }
   ],
   "source": [
    "from lazypredict.Supervised import LazyRegressor\n",
    "\n",
    "LC = LazyRegressor(ignore_warnings=True, random_state=0, verbose=False)\n",
    "models, predictions = LC.fit(X_train, X_test, y_train, y_test)\n",
    "models"
   ]
  },
  {
   "cell_type": "markdown",
   "id": "a9c535d2",
   "metadata": {},
   "source": [
    "## NN"
   ]
  },
  {
   "cell_type": "code",
   "execution_count": null,
   "id": "2e88b974",
   "metadata": {
    "scrolled": true
   },
   "outputs": [],
   "source": [
    "# start_time = time.time()\n",
    "\n",
    "\n",
    "# from tensorflow.keras.models import Sequential\n",
    "# from tensorflow.keras.layers import Input\n",
    "# from tensorflow.keras.layers import Dense\n",
    "# from tensorflow.keras.layers import BatchNormalization\n",
    "# from tensorflow.keras.layers import LeakyReLU\n",
    "\n",
    "# n_cols = X_train.shape[1]\n",
    "\n",
    "# model = Sequential([Dense(14, input_shape=(n_cols,)),\n",
    "#                     BatchNormalization(),\n",
    "#                     LeakyReLU(),\n",
    "#                     Dense(14, input_shape=(n_cols,)),\n",
    "#                     BatchNormalization(),\n",
    "#                     LeakyReLU(),\n",
    "#                     Dense(1)\n",
    "# ])\n",
    "\n",
    "# model.compile(optimizer='adam', loss='mean_absolute_error', metrics=['accuracy'])\n",
    "# model.summary()\n",
    "\n",
    "# # 擬合X, y\n",
    "# history = model.fit(X_train, y_train, validation_split=0.3, batch_size=100, epochs=10, verbose=2)\n",
    "\n",
    "\n",
    "# plt.plot(history.history['accuracy'])\n",
    "# plt.plot(history.history['val_accuracy'])\n",
    "# plt.legend(['training', 'validation'], loc='upper left')\n",
    "# plt.show()\n",
    "\n",
    "\n",
    "# result = model.evaluate(X_test, y_test)\n",
    "# print(result)\n",
    "\n",
    "\n",
    "# end_time = time.time()\n",
    "# execution_time = end_time - start_time\n",
    "# print(\"執行時間:\", execution_time, \"秒\")"
   ]
  },
  {
   "cell_type": "code",
   "execution_count": null,
   "id": "c8c019dd",
   "metadata": {},
   "outputs": [],
   "source": []
  }
 ],
 "metadata": {
  "kernelspec": {
   "display_name": "Python 3 (ipykernel)",
   "language": "python",
   "name": "python3"
  },
  "language_info": {
   "codemirror_mode": {
    "name": "ipython",
    "version": 3
   },
   "file_extension": ".py",
   "mimetype": "text/x-python",
   "name": "python",
   "nbconvert_exporter": "python",
   "pygments_lexer": "ipython3",
   "version": "3.10.12"
  }
 },
 "nbformat": 4,
 "nbformat_minor": 5
}
