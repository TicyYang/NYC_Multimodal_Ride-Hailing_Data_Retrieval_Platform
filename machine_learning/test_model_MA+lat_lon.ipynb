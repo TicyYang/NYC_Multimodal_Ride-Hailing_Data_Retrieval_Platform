{
 "cells": [
  {
   "cell_type": "code",
   "execution_count": 1,
   "id": "45ccb979",
   "metadata": {},
   "outputs": [],
   "source": [
    "import numpy as np\n",
    "import pandas as pd\n",
    "import time"
   ]
  },
  {
   "cell_type": "code",
   "execution_count": 2,
   "id": "beb956fe",
   "metadata": {},
   "outputs": [
    {
     "data": {
      "text/html": [
       "<div>\n",
       "<style scoped>\n",
       "    .dataframe tbody tr th:only-of-type {\n",
       "        vertical-align: middle;\n",
       "    }\n",
       "\n",
       "    .dataframe tbody tr th {\n",
       "        vertical-align: top;\n",
       "    }\n",
       "\n",
       "    .dataframe thead th {\n",
       "        text-align: right;\n",
       "    }\n",
       "</style>\n",
       "<table border=\"1\" class=\"dataframe\">\n",
       "  <thead>\n",
       "    <tr style=\"text-align: right;\">\n",
       "      <th></th>\n",
       "      <th>Name</th>\n",
       "      <th>year</th>\n",
       "      <th>month</th>\n",
       "      <th>day</th>\n",
       "      <th>hour</th>\n",
       "      <th>weekday</th>\n",
       "      <th>PULocationID</th>\n",
       "      <th>is_holiday</th>\n",
       "      <th>count</th>\n",
       "      <th>lat</th>\n",
       "      <th>lon</th>\n",
       "      <th>7DaysMA</th>\n",
       "    </tr>\n",
       "  </thead>\n",
       "  <tbody>\n",
       "    <tr>\n",
       "      <th>0</th>\n",
       "      <td>lyft</td>\n",
       "      <td>2019</td>\n",
       "      <td>2</td>\n",
       "      <td>1</td>\n",
       "      <td>0</td>\n",
       "      <td>4</td>\n",
       "      <td>3</td>\n",
       "      <td>False</td>\n",
       "      <td>4</td>\n",
       "      <td>40.864294</td>\n",
       "      <td>-73.846510</td>\n",
       "      <td>170.285714</td>\n",
       "    </tr>\n",
       "    <tr>\n",
       "      <th>1</th>\n",
       "      <td>lyft</td>\n",
       "      <td>2019</td>\n",
       "      <td>2</td>\n",
       "      <td>1</td>\n",
       "      <td>0</td>\n",
       "      <td>4</td>\n",
       "      <td>4</td>\n",
       "      <td>False</td>\n",
       "      <td>22</td>\n",
       "      <td>40.723853</td>\n",
       "      <td>-73.975209</td>\n",
       "      <td>707.571429</td>\n",
       "    </tr>\n",
       "    <tr>\n",
       "      <th>2</th>\n",
       "      <td>lyft</td>\n",
       "      <td>2019</td>\n",
       "      <td>2</td>\n",
       "      <td>1</td>\n",
       "      <td>0</td>\n",
       "      <td>4</td>\n",
       "      <td>6</td>\n",
       "      <td>False</td>\n",
       "      <td>1</td>\n",
       "      <td>40.601117</td>\n",
       "      <td>-74.071747</td>\n",
       "      <td>50.714286</td>\n",
       "    </tr>\n",
       "    <tr>\n",
       "      <th>3</th>\n",
       "      <td>lyft</td>\n",
       "      <td>2019</td>\n",
       "      <td>2</td>\n",
       "      <td>1</td>\n",
       "      <td>0</td>\n",
       "      <td>4</td>\n",
       "      <td>7</td>\n",
       "      <td>False</td>\n",
       "      <td>50</td>\n",
       "      <td>40.761433</td>\n",
       "      <td>-73.919365</td>\n",
       "      <td>1640.857143</td>\n",
       "    </tr>\n",
       "    <tr>\n",
       "      <th>4</th>\n",
       "      <td>lyft</td>\n",
       "      <td>2019</td>\n",
       "      <td>2</td>\n",
       "      <td>1</td>\n",
       "      <td>0</td>\n",
       "      <td>4</td>\n",
       "      <td>9</td>\n",
       "      <td>False</td>\n",
       "      <td>2</td>\n",
       "      <td>40.750302</td>\n",
       "      <td>-73.790188</td>\n",
       "      <td>80.285714</td>\n",
       "    </tr>\n",
       "  </tbody>\n",
       "</table>\n",
       "</div>"
      ],
      "text/plain": [
       "   Name  year  month  day  hour  weekday  PULocationID  is_holiday  count  \\\n",
       "0  lyft  2019      2    1     0        4             3       False      4   \n",
       "1  lyft  2019      2    1     0        4             4       False     22   \n",
       "2  lyft  2019      2    1     0        4             6       False      1   \n",
       "3  lyft  2019      2    1     0        4             7       False     50   \n",
       "4  lyft  2019      2    1     0        4             9       False      2   \n",
       "\n",
       "         lat        lon      7DaysMA  \n",
       "0  40.864294 -73.846510   170.285714  \n",
       "1  40.723853 -73.975209   707.571429  \n",
       "2  40.601117 -74.071747    50.714286  \n",
       "3  40.761433 -73.919365  1640.857143  \n",
       "4  40.750302 -73.790188    80.285714  "
      ]
     },
     "execution_count": 2,
     "metadata": {},
     "output_type": "execute_result"
    }
   ],
   "source": [
    "df = pd.read_parquet('../time_series/MA+lat_lon/TS3-201902_202306.parquet', engine='pyarrow')\n",
    "df.head()"
   ]
  },
  {
   "cell_type": "code",
   "execution_count": 3,
   "id": "d77118fc",
   "metadata": {},
   "outputs": [
    {
     "data": {
      "text/html": [
       "<div>\n",
       "<style scoped>\n",
       "    .dataframe tbody tr th:only-of-type {\n",
       "        vertical-align: middle;\n",
       "    }\n",
       "\n",
       "    .dataframe tbody tr th {\n",
       "        vertical-align: top;\n",
       "    }\n",
       "\n",
       "    .dataframe thead th {\n",
       "        text-align: right;\n",
       "    }\n",
       "</style>\n",
       "<table border=\"1\" class=\"dataframe\">\n",
       "  <thead>\n",
       "    <tr style=\"text-align: right;\">\n",
       "      <th></th>\n",
       "      <th>Name</th>\n",
       "      <th>year</th>\n",
       "      <th>month</th>\n",
       "      <th>day</th>\n",
       "      <th>hour</th>\n",
       "      <th>weekday</th>\n",
       "      <th>PULocationID</th>\n",
       "      <th>is_holiday</th>\n",
       "      <th>count</th>\n",
       "      <th>lat</th>\n",
       "      <th>lon</th>\n",
       "      <th>7DaysMA</th>\n",
       "    </tr>\n",
       "  </thead>\n",
       "  <tbody>\n",
       "    <tr>\n",
       "      <th>0</th>\n",
       "      <td>lyft</td>\n",
       "      <td>2019</td>\n",
       "      <td>2</td>\n",
       "      <td>1</td>\n",
       "      <td>0</td>\n",
       "      <td>4</td>\n",
       "      <td>3</td>\n",
       "      <td>False</td>\n",
       "      <td>4</td>\n",
       "      <td>40.864294</td>\n",
       "      <td>-73.846510</td>\n",
       "      <td>24.326531</td>\n",
       "    </tr>\n",
       "    <tr>\n",
       "      <th>1</th>\n",
       "      <td>lyft</td>\n",
       "      <td>2019</td>\n",
       "      <td>2</td>\n",
       "      <td>1</td>\n",
       "      <td>0</td>\n",
       "      <td>4</td>\n",
       "      <td>4</td>\n",
       "      <td>False</td>\n",
       "      <td>22</td>\n",
       "      <td>40.723853</td>\n",
       "      <td>-73.975209</td>\n",
       "      <td>101.081633</td>\n",
       "    </tr>\n",
       "    <tr>\n",
       "      <th>2</th>\n",
       "      <td>lyft</td>\n",
       "      <td>2019</td>\n",
       "      <td>2</td>\n",
       "      <td>1</td>\n",
       "      <td>0</td>\n",
       "      <td>4</td>\n",
       "      <td>6</td>\n",
       "      <td>False</td>\n",
       "      <td>1</td>\n",
       "      <td>40.601117</td>\n",
       "      <td>-74.071747</td>\n",
       "      <td>7.244898</td>\n",
       "    </tr>\n",
       "    <tr>\n",
       "      <th>3</th>\n",
       "      <td>lyft</td>\n",
       "      <td>2019</td>\n",
       "      <td>2</td>\n",
       "      <td>1</td>\n",
       "      <td>0</td>\n",
       "      <td>4</td>\n",
       "      <td>7</td>\n",
       "      <td>False</td>\n",
       "      <td>50</td>\n",
       "      <td>40.761433</td>\n",
       "      <td>-73.919365</td>\n",
       "      <td>234.408163</td>\n",
       "    </tr>\n",
       "    <tr>\n",
       "      <th>4</th>\n",
       "      <td>lyft</td>\n",
       "      <td>2019</td>\n",
       "      <td>2</td>\n",
       "      <td>1</td>\n",
       "      <td>0</td>\n",
       "      <td>4</td>\n",
       "      <td>9</td>\n",
       "      <td>False</td>\n",
       "      <td>2</td>\n",
       "      <td>40.750302</td>\n",
       "      <td>-73.790188</td>\n",
       "      <td>11.469388</td>\n",
       "    </tr>\n",
       "  </tbody>\n",
       "</table>\n",
       "</div>"
      ],
      "text/plain": [
       "   Name  year  month  day  hour  weekday  PULocationID  is_holiday  count  \\\n",
       "0  lyft  2019      2    1     0        4             3       False      4   \n",
       "1  lyft  2019      2    1     0        4             4       False     22   \n",
       "2  lyft  2019      2    1     0        4             6       False      1   \n",
       "3  lyft  2019      2    1     0        4             7       False     50   \n",
       "4  lyft  2019      2    1     0        4             9       False      2   \n",
       "\n",
       "         lat        lon     7DaysMA  \n",
       "0  40.864294 -73.846510   24.326531  \n",
       "1  40.723853 -73.975209  101.081633  \n",
       "2  40.601117 -74.071747    7.244898  \n",
       "3  40.761433 -73.919365  234.408163  \n",
       "4  40.750302 -73.790188   11.469388  "
      ]
     },
     "execution_count": 3,
     "metadata": {},
     "output_type": "execute_result"
    }
   ],
   "source": [
    "df['7DaysMA'] = df['7DaysMA'] / 7\n",
    "df.head()"
   ]
  },
  {
   "cell_type": "code",
   "execution_count": 4,
   "id": "d9ca4b4c",
   "metadata": {},
   "outputs": [],
   "source": [
    "valid = df[~(df['year'] == 2023)]\n",
    "valid = valid.drop('year', axis=1)"
   ]
  },
  {
   "cell_type": "code",
   "execution_count": 5,
   "id": "fe484a5f",
   "metadata": {},
   "outputs": [],
   "source": [
    "df = df.drop('year', axis=1)"
   ]
  },
  {
   "cell_type": "code",
   "execution_count": 6,
   "id": "bcac2ce9",
   "metadata": {},
   "outputs": [],
   "source": [
    "from sklearn.preprocessing import LabelEncoder\n",
    "label = LabelEncoder()\n",
    "df['Name'] = label.fit_transform(df['Name'])\n",
    "valid['Name'] = label.fit_transform(valid['Name'])"
   ]
  },
  {
   "cell_type": "code",
   "execution_count": 7,
   "id": "642043ab",
   "metadata": {},
   "outputs": [],
   "source": [
    "df = df.astype({'is_holiday': 'int'})\n",
    "valid = valid.astype({'is_holiday': 'int'})"
   ]
  },
  {
   "cell_type": "code",
   "execution_count": 8,
   "id": "65de645d",
   "metadata": {},
   "outputs": [],
   "source": [
    "from sklearn.model_selection import train_test_split\n",
    "\n",
    "X = df.drop('count', axis=1).values\n",
    "y = df['count'].values\n",
    "\n",
    "X_train, X_test, y_train, y_test = train_test_split(X, y, \n",
    "                                                    test_size=0.2, \n",
    "                                                    random_state=1)\n",
    "\n",
    "X_valid = valid.drop('count', axis=1).values\n",
    "y_valid = valid['count'].values"
   ]
  },
  {
   "cell_type": "markdown",
   "id": "254def4c",
   "metadata": {},
   "source": [
    "## scikit-learn"
   ]
  },
  {
   "cell_type": "code",
   "execution_count": 9,
   "id": "db1a33bb",
   "metadata": {},
   "outputs": [],
   "source": [
    "from sklearn.preprocessing import StandardScaler, MinMaxScaler\n",
    "from sklearn.metrics import mean_absolute_error, r2_score\n",
    "from sklearn.model_selection import train_test_split, cross_val_score, KFold, GridSearchCV\n",
    "from xgboost import XGBRegressor\n",
    "from lightgbm import LGBMRegressor\n",
    "\n",
    "# scaler = StandardScaler()\n",
    "scaler = MinMaxScaler()\n",
    "X_train_scaled = scaler.fit_transform(X_train)\n",
    "X_test_scaled = scaler.fit_transform(X_test)\n",
    "X_valid_scaled = scaler.fit_transform(X_valid)"
   ]
  },
  {
   "cell_type": "markdown",
   "id": "c6e35d61",
   "metadata": {},
   "source": [
    "## LightGBM"
   ]
  },
  {
   "cell_type": "code",
   "execution_count": 10,
   "id": "eecf50fb",
   "metadata": {
    "scrolled": true
   },
   "outputs": [],
   "source": [
    "# start_time = time.time()\n",
    "\n",
    "\n",
    "# from sklearn.model_selection import GridSearchCV\n",
    "# kf = KFold(n_splits=5, shuffle=True, random_state=0)\n",
    "# param_grid = {'n_estimators': range(100, 501, 100),\n",
    "#               'learning_rate': np.logspace(0, -2, 3), \n",
    "#               'max_depth': range(3, 11)}\n",
    "\n",
    "# lgbm = LGBMRegressor(n_jobs=-1, \n",
    "#                      random_state=0, \n",
    "#                      verbose=-1)\n",
    "\n",
    "# model_cv = GridSearchCV(lgbm, param_grid, cv=kf, scoring='r2')\n",
    "# model_cv.fit(X_train_scaled, y_train)\n",
    "# print(model_cv.best_params_, model_cv.best_score_)\n",
    "\n",
    "\n",
    "# end_time = time.time()\n",
    "# execution_time = end_time - start_time\n",
    "# print(\"執行時間:\", execution_time, \"秒\")"
   ]
  },
  {
   "cell_type": "code",
   "execution_count": null,
   "id": "658e4dea",
   "metadata": {},
   "outputs": [],
   "source": [
    "# 預設\n",
    "# n_estimators=100\n",
    "# learning_rate=0.1\n",
    "# max_depth=-1\n",
    "# num_leaves=31\n",
    "\n",
    "# 自訂\n",
    "# model = LGBMRegressor(n_estimators=10000, \n",
    "#                       learning_rate=0.01, \n",
    "#                       max_depth=10, \n",
    "#                       n_jobs=-1, \n",
    "#                       random_state=0, \n",
    "#                       verbose=-1)"
   ]
  },
  {
   "cell_type": "code",
   "execution_count": 10,
   "id": "0a641c66",
   "metadata": {},
   "outputs": [
    {
     "name": "stdout",
     "output_type": "stream",
     "text": [
      "Train\n",
      "MAE: 10.365154776488769\n",
      "R2: 0.9119103656895154\n",
      "------------------------------\n",
      "Valid\n",
      "MAE: 10.186833463634374\n",
      "R2: 0.9123736828573386\n",
      "執行時間: 37.951764822006226 秒\n"
     ]
    }
   ],
   "source": [
    "start_time = time.time()\n",
    "\n",
    "\n",
    "model = LGBMRegressor(subsample=0.8, \n",
    "                      n_jobs=-1, \n",
    "                      random_state=0, \n",
    "                      verbose=-1\n",
    "                     )\n",
    "model.fit(X_train_scaled, y_train)\n",
    "\n",
    "y_pred = model.predict(X_test_scaled)\n",
    "\n",
    "mae = mean_absolute_error(y_test, y_pred)\n",
    "r2 = r2_score(y_test, y_pred)\n",
    "print('Train')\n",
    "print(f'MAE: {mae}\\nR2: {r2}')\n",
    "print('-' * 30)\n",
    "\n",
    "\n",
    "prediction = model.predict(X_valid_scaled)\n",
    "mae = mean_absolute_error(y_valid, prediction)\n",
    "r2 = r2_score(y_valid, prediction)\n",
    "print('Valid')\n",
    "print(f'MAE: {mae}\\nR2: {r2}')\n",
    "\n",
    "\n",
    "end_time = time.time()\n",
    "execution_time = end_time - start_time\n",
    "print(\"執行時間:\", execution_time, \"秒\")"
   ]
  },
  {
   "cell_type": "markdown",
   "id": "b422b214",
   "metadata": {},
   "source": [
    "num_leaves  \n",
    "3: 0.6637288667911974   \n",
    "4: 0.8329159581614249  \n",
    "6: 0.8685144536896037  \n",
    "8: 0.8803630708230998  \n",
    "10: 0.8848594048353419  \n",
    "12: 0.8895765185174851   \n",
    "14: 0.892580113955432  \n",
    "16: 0.8926464578493545  \n",
    "18: 0.8934328170771787  \n",
    "20: 0.8935596196349447  \n",
    "22: 0.8967957958265972  \n",
    "23: 0.895428900230507  \n",
    "24: 0.8973346290296784  \n",
    "25: 0.8953890750211984  \n",
    "26: 0.8960582691163776\n",
    "27: 0.8972003652219567  Valid R2: 0.9210254260471169  \n",
    "28: 0.897932838788989  Valid R2: 0.9224258657110439  \n",
    "29: 0.8976192661333579  Valid R2: 0.9223652275276067  \n",
    "30: "
   ]
  },
  {
   "cell_type": "code",
   "execution_count": 33,
   "id": "53ce399b",
   "metadata": {
    "scrolled": true
   },
   "outputs": [
    {
     "name": "stdout",
     "output_type": "stream",
     "text": [
      "MAE: 11.676067302276069\n",
      "R2: 0.8976192661333579\n",
      "執行時間: 599.8441820144653 秒\n"
     ]
    }
   ],
   "source": [
    "start_time = time.time()\n",
    "\n",
    "\n",
    "model = LGBMRegressor(n_estimators=10000, \n",
    "                      learning_rate=0.01, \n",
    "                      max_depth=10, \n",
    "                      num_leaves=29, \n",
    "                      subsample=0.8, \n",
    "                      #n_jobs=-1, \n",
    "                      random_state=0, \n",
    "                      verbose=-1)\n",
    "model.fit(X_train_scaled, y_train)\n",
    "\n",
    "y_pred = model.predict(X_test_scaled)\n",
    "\n",
    "mae = mean_absolute_error(y_test, y_pred)\n",
    "r2 = r2_score(y_test, y_pred)\n",
    "\n",
    "print(f'MAE: {mae}\\nR2: {r2}')\n",
    "\n",
    "\n",
    "end_time = time.time()\n",
    "execution_time = end_time - start_time\n",
    "print(\"執行時間:\", execution_time, \"秒\")"
   ]
  },
  {
   "cell_type": "code",
   "execution_count": 34,
   "id": "7995bd20",
   "metadata": {},
   "outputs": [
    {
     "name": "stdout",
     "output_type": "stream",
     "text": [
      "MAE: 11.676067302276069\n",
      "R2: 0.9223652275276067\n"
     ]
    }
   ],
   "source": [
    "prediction = model.predict(X_valid_scaled)\n",
    "mean_absolute_error(y_valid, prediction)\n",
    "r2 = r2_score(y_valid, prediction)\n",
    "print(f'MAE: {mae}\\nR2: {r2}')"
   ]
  },
  {
   "cell_type": "markdown",
   "id": "a9c535d2",
   "metadata": {},
   "source": [
    "## NN"
   ]
  },
  {
   "cell_type": "code",
   "execution_count": 10,
   "id": "2e88b974",
   "metadata": {
    "scrolled": false
   },
   "outputs": [
    {
     "name": "stdout",
     "output_type": "stream",
     "text": [
      "Model: \"sequential\"\n",
      "_________________________________________________________________\n",
      " Layer (type)                Output Shape              Param #   \n",
      "=================================================================\n",
      " dense (Dense)               (None, 64)                576       \n",
      "                                                                 \n",
      " batch_normalization (Batch  (None, 64)                256       \n",
      " Normalization)                                                  \n",
      "                                                                 \n",
      " leaky_re_lu (LeakyReLU)     (None, 64)                0         \n",
      "                                                                 \n",
      " dropout (Dropout)           (None, 64)                0         \n",
      "                                                                 \n",
      " dense_1 (Dense)             (None, 32)                2080      \n",
      "                                                                 \n",
      " batch_normalization_1 (Bat  (None, 32)                128       \n",
      " chNormalization)                                                \n",
      "                                                                 \n",
      " leaky_re_lu_1 (LeakyReLU)   (None, 32)                0         \n",
      "                                                                 \n",
      " dense_2 (Dense)             (None, 1)                 33        \n",
      "                                                                 \n",
      "=================================================================\n",
      "Total params: 3073 (12.00 KB)\n",
      "Trainable params: 2881 (11.25 KB)\n",
      "Non-trainable params: 192 (768.00 Byte)\n",
      "_________________________________________________________________\n",
      "執行時間: 4.6417014598846436 秒\n"
     ]
    }
   ],
   "source": [
    "start_time = time.time()\n",
    "\n",
    "import tensorflow as tf\n",
    "from tensorflow.keras.models import Sequential\n",
    "# from tensorflow.keras.layers import Input\n",
    "from tensorflow.keras import layers\n",
    "from tensorflow.keras.regularizers import L1\n",
    "tf.random.set_seed(42)\n",
    "\n",
    "n_cols = X_train_scaled.shape[1]\n",
    "\n",
    "model = Sequential([layers.Dense(64, input_shape=(n_cols,)),\n",
    "                    layers.BatchNormalization(),\n",
    "                    layers.LeakyReLU(),\n",
    "                    layers.Dropout(0.2),\n",
    "                    layers.Dense(32, kernel_regularizer=L1(0.01), input_shape=(n_cols,)),\n",
    "                    layers.BatchNormalization(),\n",
    "                    layers.LeakyReLU(),\n",
    "                    layers.Dense(1)\n",
    "])\n",
    "\n",
    "model.compile(optimizer='adam', loss='mean_absolute_error', metrics=['mae'])\n",
    "model.summary()\n",
    "\n",
    "\n",
    "end_time = time.time()\n",
    "execution_time = end_time - start_time\n",
    "print(\"執行時間:\", execution_time, \"秒\")"
   ]
  },
  {
   "cell_type": "code",
   "execution_count": 12,
   "id": "c8c019dd",
   "metadata": {
    "scrolled": true
   },
   "outputs": [
    {
     "name": "stdout",
     "output_type": "stream",
     "text": [
      "Epoch 1/100\n",
      "3398/3398 [==============================] - 16s 5ms/step - loss: 15.6493 - mae: 15.3769 - val_loss: 15.7843 - val_mae: 15.5043\n",
      "Epoch 2/100\n",
      "3398/3398 [==============================] - 17s 5ms/step - loss: 15.3945 - mae: 15.1113 - val_loss: 15.7688 - val_mae: 15.4744\n",
      "Epoch 3/100\n",
      "3398/3398 [==============================] - 14s 4ms/step - loss: 15.2410 - mae: 14.9413 - val_loss: 15.7784 - val_mae: 15.4705\n",
      "Epoch 4/100\n",
      "3398/3398 [==============================] - 14s 4ms/step - loss: 15.1369 - mae: 14.8244 - val_loss: 16.1521 - val_mae: 15.8363\n",
      "Epoch 5/100\n",
      "3398/3398 [==============================] - 15s 4ms/step - loss: 15.0634 - mae: 14.7419 - val_loss: 15.3749 - val_mae: 15.0514\n",
      "Epoch 6/100\n",
      "3398/3398 [==============================] - 16s 5ms/step - loss: 14.9821 - mae: 14.6553 - val_loss: 15.5277 - val_mae: 15.1961\n",
      "Epoch 7/100\n",
      "3398/3398 [==============================] - 14s 4ms/step - loss: 14.9292 - mae: 14.5922 - val_loss: 15.0364 - val_mae: 14.6970\n",
      "Epoch 8/100\n",
      "3398/3398 [==============================] - 13s 4ms/step - loss: 14.8586 - mae: 14.5188 - val_loss: 15.4594 - val_mae: 15.1143\n",
      "Epoch 9/100\n",
      "3398/3398 [==============================] - 8s 2ms/step - loss: 14.8075 - mae: 14.4576 - val_loss: 15.0715 - val_mae: 14.7193\n",
      "Epoch 10/100\n",
      "3398/3398 [==============================] - 9s 3ms/step - loss: 14.7544 - mae: 14.4017 - val_loss: 15.6334 - val_mae: 15.2850\n",
      "Epoch 11/100\n",
      "3398/3398 [==============================] - 11s 3ms/step - loss: 14.7227 - mae: 14.3654 - val_loss: 16.5315 - val_mae: 16.1763\n",
      "Epoch 12/100\n",
      "3398/3398 [==============================] - 13s 4ms/step - loss: 14.6919 - mae: 14.3296 - val_loss: 16.0876 - val_mae: 15.7216\n",
      "執行時間: 159.33337831497192 秒\n"
     ]
    }
   ],
   "source": [
    "start_time = time.time()\n",
    "\n",
    "\n",
    "from keras.callbacks import EarlyStopping\n",
    "early_stopping = EarlyStopping(monitor='val_loss', patience=5, restore_best_weights=True)\n",
    "\n",
    "history = model.fit(X_train_scaled, y_train, \n",
    "                    validation_split=0.2, \n",
    "                    batch_size=1000, \n",
    "                    epochs=100, \n",
    "                    verbose=1, \n",
    "                    callbacks=early_stopping)\n",
    "\n",
    "end_time = time.time()\n",
    "execution_time = end_time - start_time\n",
    "print(\"執行時間:\", execution_time, \"秒\")"
   ]
  },
  {
   "cell_type": "code",
   "execution_count": 13,
   "id": "1d7517f7",
   "metadata": {},
   "outputs": [
    {
     "name": "stdout",
     "output_type": "stream",
     "text": [
      "26649/26649 [==============================] - 50s 2ms/step - loss: 16.8203 - mae: 16.4809\n",
      "[16.820343017578125, 16.480937957763672]\n"
     ]
    }
   ],
   "source": [
    "result = model.evaluate(X_test_scaled, y_test)\n",
    "print(result)"
   ]
  },
  {
   "cell_type": "code",
   "execution_count": 14,
   "id": "15e70735",
   "metadata": {},
   "outputs": [
    {
     "name": "stdout",
     "output_type": "stream",
     "text": [
      "26649/26649 [==============================] - 34s 1ms/step\n",
      "Test R²: 0.7460933215646455\n"
     ]
    }
   ],
   "source": [
    "from sklearn.metrics import r2_score\n",
    "\n",
    "y_test_pred = model.predict(X_test_scaled)\n",
    "r2 = r2_score(y_test, y_test_pred)\n",
    "\n",
    "print(\"Test R²:\", r2)"
   ]
  },
  {
   "cell_type": "code",
   "execution_count": 15,
   "id": "b4a77e54",
   "metadata": {},
   "outputs": [
    {
     "name": "stdout",
     "output_type": "stream",
     "text": [
      "13445/13445 [==============================] - 21s 2ms/step\n",
      "Valid R²: 0.7542718902910129\n"
     ]
    }
   ],
   "source": [
    "y_valid_pred = model.predict(X_valid_scaled)\n",
    "r2 = r2_score(y_valid, y_valid_pred)\n",
    "\n",
    "print(\"Valid R²:\", r2)"
   ]
  },
  {
   "cell_type": "code",
   "execution_count": null,
   "id": "e9ac12eb",
   "metadata": {},
   "outputs": [],
   "source": []
  }
 ],
 "metadata": {
  "kernelspec": {
   "display_name": "Python 3 (ipykernel)",
   "language": "python",
   "name": "python3"
  },
  "language_info": {
   "codemirror_mode": {
    "name": "ipython",
    "version": 3
   },
   "file_extension": ".py",
   "mimetype": "text/x-python",
   "name": "python",
   "nbconvert_exporter": "python",
   "pygments_lexer": "ipython3",
   "version": "3.10.12"
  },
  "toc": {
   "base_numbering": 1,
   "nav_menu": {},
   "number_sections": true,
   "sideBar": true,
   "skip_h1_title": false,
   "title_cell": "Table of Contents",
   "title_sidebar": "Contents",
   "toc_cell": false,
   "toc_position": {},
   "toc_section_display": true,
   "toc_window_display": false
  }
 },
 "nbformat": 4,
 "nbformat_minor": 5
}
