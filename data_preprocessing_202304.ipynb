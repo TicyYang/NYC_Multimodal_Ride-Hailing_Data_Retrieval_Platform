{
 "cells": [
  {
   "cell_type": "markdown",
   "metadata": {},
   "source": [
    "期中提案僅針對最新的dataset (2023-04)進行資料清理與EDA"
   ]
  },
  {
   "cell_type": "markdown",
   "metadata": {},
   "source": [
    "Import Packages and Dataset"
   ]
  },
  {
   "cell_type": "code",
   "execution_count": 1,
   "metadata": {},
   "outputs": [],
   "source": [
    "import numpy as np\n",
    "import pandas as pd\n",
    "import matplotlib.pyplot as plt\n",
    "import seaborn as sns\n",
    "sns.set_style('darkgrid')"
   ]
  },
  {
   "cell_type": "code",
   "execution_count": 2,
   "metadata": {},
   "outputs": [],
   "source": [
    "fhvhv_202304 = pd.read_parquet('../fhvhv_tripdata_2023-04.parquet', engine='pyarrow')"
   ]
  },
  {
   "cell_type": "code",
   "execution_count": 3,
   "metadata": {},
   "outputs": [
    {
     "data": {
      "text/html": [
       "<div>\n",
       "<style scoped>\n",
       "    .dataframe tbody tr th:only-of-type {\n",
       "        vertical-align: middle;\n",
       "    }\n",
       "\n",
       "    .dataframe tbody tr th {\n",
       "        vertical-align: top;\n",
       "    }\n",
       "\n",
       "    .dataframe thead th {\n",
       "        text-align: right;\n",
       "    }\n",
       "</style>\n",
       "<table border=\"1\" class=\"dataframe\">\n",
       "  <thead>\n",
       "    <tr style=\"text-align: right;\">\n",
       "      <th></th>\n",
       "      <th>hvfhs_license_num</th>\n",
       "      <th>dispatching_base_num</th>\n",
       "      <th>originating_base_num</th>\n",
       "      <th>request_datetime</th>\n",
       "      <th>on_scene_datetime</th>\n",
       "      <th>pickup_datetime</th>\n",
       "      <th>dropoff_datetime</th>\n",
       "      <th>PULocationID</th>\n",
       "      <th>DOLocationID</th>\n",
       "      <th>trip_miles</th>\n",
       "      <th>...</th>\n",
       "      <th>sales_tax</th>\n",
       "      <th>congestion_surcharge</th>\n",
       "      <th>airport_fee</th>\n",
       "      <th>tips</th>\n",
       "      <th>driver_pay</th>\n",
       "      <th>shared_request_flag</th>\n",
       "      <th>shared_match_flag</th>\n",
       "      <th>access_a_ride_flag</th>\n",
       "      <th>wav_request_flag</th>\n",
       "      <th>wav_match_flag</th>\n",
       "    </tr>\n",
       "  </thead>\n",
       "  <tbody>\n",
       "    <tr>\n",
       "      <th>0</th>\n",
       "      <td>HV0003</td>\n",
       "      <td>B03404</td>\n",
       "      <td>B03404</td>\n",
       "      <td>2023-04-01 00:01:28</td>\n",
       "      <td>2023-04-01 00:02:41</td>\n",
       "      <td>2023-04-01 00:03:03</td>\n",
       "      <td>2023-04-01 00:15:42</td>\n",
       "      <td>174</td>\n",
       "      <td>126</td>\n",
       "      <td>5.10</td>\n",
       "      <td>...</td>\n",
       "      <td>1.82</td>\n",
       "      <td>0.00</td>\n",
       "      <td>0.0</td>\n",
       "      <td>0.00</td>\n",
       "      <td>13.83</td>\n",
       "      <td>N</td>\n",
       "      <td>N</td>\n",
       "      <td></td>\n",
       "      <td>N</td>\n",
       "      <td>N</td>\n",
       "    </tr>\n",
       "    <tr>\n",
       "      <th>1</th>\n",
       "      <td>HV0003</td>\n",
       "      <td>B03404</td>\n",
       "      <td>B03404</td>\n",
       "      <td>2023-04-01 00:39:40</td>\n",
       "      <td>2023-04-01 00:41:20</td>\n",
       "      <td>2023-04-01 00:43:42</td>\n",
       "      <td>2023-04-01 01:01:08</td>\n",
       "      <td>211</td>\n",
       "      <td>163</td>\n",
       "      <td>3.11</td>\n",
       "      <td>...</td>\n",
       "      <td>3.56</td>\n",
       "      <td>2.75</td>\n",
       "      <td>0.0</td>\n",
       "      <td>9.52</td>\n",
       "      <td>24.84</td>\n",
       "      <td>N</td>\n",
       "      <td>N</td>\n",
       "      <td></td>\n",
       "      <td>N</td>\n",
       "      <td>N</td>\n",
       "    </tr>\n",
       "    <tr>\n",
       "      <th>2</th>\n",
       "      <td>HV0003</td>\n",
       "      <td>B03404</td>\n",
       "      <td>B03404</td>\n",
       "      <td>2023-03-31 23:56:31</td>\n",
       "      <td>2023-04-01 00:00:20</td>\n",
       "      <td>2023-04-01 00:01:01</td>\n",
       "      <td>2023-04-01 00:09:48</td>\n",
       "      <td>222</td>\n",
       "      <td>76</td>\n",
       "      <td>2.40</td>\n",
       "      <td>...</td>\n",
       "      <td>1.08</td>\n",
       "      <td>0.00</td>\n",
       "      <td>0.0</td>\n",
       "      <td>0.00</td>\n",
       "      <td>8.10</td>\n",
       "      <td>Y</td>\n",
       "      <td>N</td>\n",
       "      <td></td>\n",
       "      <td>N</td>\n",
       "      <td>N</td>\n",
       "    </tr>\n",
       "    <tr>\n",
       "      <th>3</th>\n",
       "      <td>HV0003</td>\n",
       "      <td>B03404</td>\n",
       "      <td>B03404</td>\n",
       "      <td>2023-04-01 00:12:35</td>\n",
       "      <td>2023-04-01 00:16:04</td>\n",
       "      <td>2023-04-01 00:17:17</td>\n",
       "      <td>2023-04-01 00:19:12</td>\n",
       "      <td>76</td>\n",
       "      <td>124</td>\n",
       "      <td>0.43</td>\n",
       "      <td>...</td>\n",
       "      <td>0.70</td>\n",
       "      <td>0.00</td>\n",
       "      <td>0.0</td>\n",
       "      <td>0.00</td>\n",
       "      <td>5.40</td>\n",
       "      <td>N</td>\n",
       "      <td>N</td>\n",
       "      <td></td>\n",
       "      <td>N</td>\n",
       "      <td>N</td>\n",
       "    </tr>\n",
       "    <tr>\n",
       "      <th>4</th>\n",
       "      <td>HV0003</td>\n",
       "      <td>B03404</td>\n",
       "      <td>B03404</td>\n",
       "      <td>2023-04-01 00:46:23</td>\n",
       "      <td>2023-04-01 00:47:30</td>\n",
       "      <td>2023-04-01 00:47:49</td>\n",
       "      <td>2023-04-01 01:05:23</td>\n",
       "      <td>263</td>\n",
       "      <td>247</td>\n",
       "      <td>4.18</td>\n",
       "      <td>...</td>\n",
       "      <td>1.48</td>\n",
       "      <td>2.75</td>\n",
       "      <td>0.0</td>\n",
       "      <td>0.00</td>\n",
       "      <td>15.65</td>\n",
       "      <td>N</td>\n",
       "      <td>N</td>\n",
       "      <td></td>\n",
       "      <td>N</td>\n",
       "      <td>N</td>\n",
       "    </tr>\n",
       "  </tbody>\n",
       "</table>\n",
       "<p>5 rows × 24 columns</p>\n",
       "</div>"
      ],
      "text/plain": [
       "  hvfhs_license_num dispatching_base_num originating_base_num  \\\n",
       "0            HV0003               B03404               B03404   \n",
       "1            HV0003               B03404               B03404   \n",
       "2            HV0003               B03404               B03404   \n",
       "3            HV0003               B03404               B03404   \n",
       "4            HV0003               B03404               B03404   \n",
       "\n",
       "     request_datetime   on_scene_datetime     pickup_datetime  \\\n",
       "0 2023-04-01 00:01:28 2023-04-01 00:02:41 2023-04-01 00:03:03   \n",
       "1 2023-04-01 00:39:40 2023-04-01 00:41:20 2023-04-01 00:43:42   \n",
       "2 2023-03-31 23:56:31 2023-04-01 00:00:20 2023-04-01 00:01:01   \n",
       "3 2023-04-01 00:12:35 2023-04-01 00:16:04 2023-04-01 00:17:17   \n",
       "4 2023-04-01 00:46:23 2023-04-01 00:47:30 2023-04-01 00:47:49   \n",
       "\n",
       "     dropoff_datetime  PULocationID  DOLocationID  trip_miles  ...  sales_tax  \\\n",
       "0 2023-04-01 00:15:42           174           126        5.10  ...       1.82   \n",
       "1 2023-04-01 01:01:08           211           163        3.11  ...       3.56   \n",
       "2 2023-04-01 00:09:48           222            76        2.40  ...       1.08   \n",
       "3 2023-04-01 00:19:12            76           124        0.43  ...       0.70   \n",
       "4 2023-04-01 01:05:23           263           247        4.18  ...       1.48   \n",
       "\n",
       "   congestion_surcharge  airport_fee  tips  driver_pay  shared_request_flag  \\\n",
       "0                  0.00          0.0  0.00       13.83                    N   \n",
       "1                  2.75          0.0  9.52       24.84                    N   \n",
       "2                  0.00          0.0  0.00        8.10                    Y   \n",
       "3                  0.00          0.0  0.00        5.40                    N   \n",
       "4                  2.75          0.0  0.00       15.65                    N   \n",
       "\n",
       "   shared_match_flag  access_a_ride_flag  wav_request_flag wav_match_flag  \n",
       "0                  N                                     N              N  \n",
       "1                  N                                     N              N  \n",
       "2                  N                                     N              N  \n",
       "3                  N                                     N              N  \n",
       "4                  N                                     N              N  \n",
       "\n",
       "[5 rows x 24 columns]"
      ]
     },
     "execution_count": 3,
     "metadata": {},
     "output_type": "execute_result"
    }
   ],
   "source": [
    "fhvhv_202304.head()"
   ]
  },
  {
   "cell_type": "code",
   "execution_count": 4,
   "metadata": {},
   "outputs": [
    {
     "data": {
      "text/plain": [
       "(19144903, 24)"
      ]
     },
     "execution_count": 4,
     "metadata": {},
     "output_type": "execute_result"
    }
   ],
   "source": [
    "fhvhv_202304.shape"
   ]
  },
  {
   "cell_type": "markdown",
   "metadata": {},
   "source": [
    "僅保留Uber (HV0003) 的紀錄"
   ]
  },
  {
   "cell_type": "code",
   "execution_count": 5,
   "metadata": {},
   "outputs": [
    {
     "data": {
      "text/plain": [
       "(13998413, 24)"
      ]
     },
     "execution_count": 5,
     "metadata": {},
     "output_type": "execute_result"
    }
   ],
   "source": [
    "uber_202304 = fhvhv_202304[fhvhv_202304['hvfhs_license_num'] == 'HV0003']\n",
    "uber_202304.reset_index(drop=True, inplace=True)\n",
    "uber_202304.shape"
   ]
  },
  {
   "cell_type": "markdown",
   "metadata": {},
   "source": [
    "# 刪除共乘紀錄"
   ]
  },
  {
   "cell_type": "markdown",
   "metadata": {},
   "source": [
    "刪除共乘紀錄，約10萬筆 (約0.75%)  \n",
    "Uber的共乘服務舊名為Uber Pool，受疫情影響於2020年3月17暫停  \n",
    "新版的UberX Share在2022年11月1日上線，官方宣稱共乘的車資有最高20%優惠  \n",
    "處理所有的資料時要考慮暫停即恢復服務的時間，且無法確定新舊版服務的優惠是否有差異  \n",
    "若要準確預測價格應分開建模，專案複雜度會太高"
   ]
  },
  {
   "cell_type": "code",
   "execution_count": 6,
   "metadata": {},
   "outputs": [
    {
     "name": "stdout",
     "output_type": "stream",
     "text": [
      "Shared records: 105461\n",
      "Percentage of shared records in all records: 0.75%\n"
     ]
    }
   ],
   "source": [
    "share_records = uber_202304[uber_202304.shared_match_flag == \"Y\"].shape[0]\n",
    "all_records = uber_202304.shape[0]\n",
    "p_share_in_all = round((share_records / all_records * 100), 2)\n",
    "print(f'Shared records: {share_records}')\n",
    "print(f'Percentage of shared records in all records: {p_share_in_all}%')"
   ]
  },
  {
   "cell_type": "markdown",
   "metadata": {},
   "source": [
    "移除columns：  \n",
    "● *'hvfhs_license_num'*：已經篩選出Uber，全為'HV0003'；  \n",
    "● *'dispatching_base_num'*, *'originating_base_num'*：基地為哪一個不重要，大部分司機收到需求時應不是從基地出發；  \n",
    "● *'bcf'*, *'sales_tax'*：皆是按固定百分比計算，不須預測；  \n",
    "● *'driver_pay'*：為Uber支付給司機的金額，乘客不需要此資訊；  \n",
    "● *'shared_request_flag'*、*'shared_match_flag'*：刪除共乘紀錄後就不需要了；  \n",
    "● *'access_a_ride_flag'*：不重要的資訊；  \n",
    "● *'wav_request_flag'*、*'wav_match_flag'*：Uber官方宣稱WAV的行程費用與UberX相當，所以除非車資有不同，否則不需要此資訊"
   ]
  },
  {
   "cell_type": "code",
   "execution_count": 7,
   "metadata": {},
   "outputs": [],
   "source": [
    "uber_202304 = uber_202304.drop(['hvfhs_license_num', 'dispatching_base_num', 'originating_base_num', 'bcf', 'sales_tax', 'driver_pay', 'shared_request_flag', 'shared_match_flag', 'access_a_ride_flag', 'wav_request_flag', 'wav_match_flag'], axis=1)"
   ]
  },
  {
   "cell_type": "code",
   "execution_count": 8,
   "metadata": {},
   "outputs": [
    {
     "data": {
      "text/html": [
       "<div>\n",
       "<style scoped>\n",
       "    .dataframe tbody tr th:only-of-type {\n",
       "        vertical-align: middle;\n",
       "    }\n",
       "\n",
       "    .dataframe tbody tr th {\n",
       "        vertical-align: top;\n",
       "    }\n",
       "\n",
       "    .dataframe thead th {\n",
       "        text-align: right;\n",
       "    }\n",
       "</style>\n",
       "<table border=\"1\" class=\"dataframe\">\n",
       "  <thead>\n",
       "    <tr style=\"text-align: right;\">\n",
       "      <th></th>\n",
       "      <th>request_datetime</th>\n",
       "      <th>on_scene_datetime</th>\n",
       "      <th>pickup_datetime</th>\n",
       "      <th>dropoff_datetime</th>\n",
       "      <th>PULocationID</th>\n",
       "      <th>DOLocationID</th>\n",
       "      <th>trip_miles</th>\n",
       "      <th>trip_time</th>\n",
       "      <th>base_passenger_fare</th>\n",
       "      <th>tolls</th>\n",
       "      <th>congestion_surcharge</th>\n",
       "      <th>airport_fee</th>\n",
       "      <th>tips</th>\n",
       "      <th>shared_request_flag</th>\n",
       "      <th>shared_match_flag</th>\n",
       "    </tr>\n",
       "  </thead>\n",
       "  <tbody>\n",
       "    <tr>\n",
       "      <th>0</th>\n",
       "      <td>2023-04-01 00:01:28</td>\n",
       "      <td>2023-04-01 00:02:41</td>\n",
       "      <td>2023-04-01 00:03:03</td>\n",
       "      <td>2023-04-01 00:15:42</td>\n",
       "      <td>174</td>\n",
       "      <td>126</td>\n",
       "      <td>5.10</td>\n",
       "      <td>759</td>\n",
       "      <td>20.52</td>\n",
       "      <td>0.0</td>\n",
       "      <td>0.00</td>\n",
       "      <td>0.0</td>\n",
       "      <td>0.00</td>\n",
       "      <td>N</td>\n",
       "      <td>N</td>\n",
       "    </tr>\n",
       "    <tr>\n",
       "      <th>1</th>\n",
       "      <td>2023-04-01 00:39:40</td>\n",
       "      <td>2023-04-01 00:41:20</td>\n",
       "      <td>2023-04-01 00:43:42</td>\n",
       "      <td>2023-04-01 01:01:08</td>\n",
       "      <td>211</td>\n",
       "      <td>163</td>\n",
       "      <td>3.11</td>\n",
       "      <td>1046</td>\n",
       "      <td>40.12</td>\n",
       "      <td>0.0</td>\n",
       "      <td>2.75</td>\n",
       "      <td>0.0</td>\n",
       "      <td>9.52</td>\n",
       "      <td>N</td>\n",
       "      <td>N</td>\n",
       "    </tr>\n",
       "    <tr>\n",
       "      <th>2</th>\n",
       "      <td>2023-03-31 23:56:31</td>\n",
       "      <td>2023-04-01 00:00:20</td>\n",
       "      <td>2023-04-01 00:01:01</td>\n",
       "      <td>2023-04-01 00:09:48</td>\n",
       "      <td>222</td>\n",
       "      <td>76</td>\n",
       "      <td>2.40</td>\n",
       "      <td>527</td>\n",
       "      <td>12.16</td>\n",
       "      <td>0.0</td>\n",
       "      <td>0.00</td>\n",
       "      <td>0.0</td>\n",
       "      <td>0.00</td>\n",
       "      <td>Y</td>\n",
       "      <td>N</td>\n",
       "    </tr>\n",
       "    <tr>\n",
       "      <th>3</th>\n",
       "      <td>2023-04-01 00:12:35</td>\n",
       "      <td>2023-04-01 00:16:04</td>\n",
       "      <td>2023-04-01 00:17:17</td>\n",
       "      <td>2023-04-01 00:19:12</td>\n",
       "      <td>76</td>\n",
       "      <td>124</td>\n",
       "      <td>0.43</td>\n",
       "      <td>115</td>\n",
       "      <td>7.86</td>\n",
       "      <td>0.0</td>\n",
       "      <td>0.00</td>\n",
       "      <td>0.0</td>\n",
       "      <td>0.00</td>\n",
       "      <td>N</td>\n",
       "      <td>N</td>\n",
       "    </tr>\n",
       "    <tr>\n",
       "      <th>4</th>\n",
       "      <td>2023-04-01 00:46:23</td>\n",
       "      <td>2023-04-01 00:47:30</td>\n",
       "      <td>2023-04-01 00:47:49</td>\n",
       "      <td>2023-04-01 01:05:23</td>\n",
       "      <td>263</td>\n",
       "      <td>247</td>\n",
       "      <td>4.18</td>\n",
       "      <td>1054</td>\n",
       "      <td>16.73</td>\n",
       "      <td>0.0</td>\n",
       "      <td>2.75</td>\n",
       "      <td>0.0</td>\n",
       "      <td>0.00</td>\n",
       "      <td>N</td>\n",
       "      <td>N</td>\n",
       "    </tr>\n",
       "  </tbody>\n",
       "</table>\n",
       "</div>"
      ],
      "text/plain": [
       "     request_datetime   on_scene_datetime     pickup_datetime  \\\n",
       "0 2023-04-01 00:01:28 2023-04-01 00:02:41 2023-04-01 00:03:03   \n",
       "1 2023-04-01 00:39:40 2023-04-01 00:41:20 2023-04-01 00:43:42   \n",
       "2 2023-03-31 23:56:31 2023-04-01 00:00:20 2023-04-01 00:01:01   \n",
       "3 2023-04-01 00:12:35 2023-04-01 00:16:04 2023-04-01 00:17:17   \n",
       "4 2023-04-01 00:46:23 2023-04-01 00:47:30 2023-04-01 00:47:49   \n",
       "\n",
       "     dropoff_datetime  PULocationID  DOLocationID  trip_miles  trip_time  \\\n",
       "0 2023-04-01 00:15:42           174           126        5.10        759   \n",
       "1 2023-04-01 01:01:08           211           163        3.11       1046   \n",
       "2 2023-04-01 00:09:48           222            76        2.40        527   \n",
       "3 2023-04-01 00:19:12            76           124        0.43        115   \n",
       "4 2023-04-01 01:05:23           263           247        4.18       1054   \n",
       "\n",
       "   base_passenger_fare  tolls  congestion_surcharge  airport_fee  tips  \\\n",
       "0                20.52    0.0                  0.00          0.0  0.00   \n",
       "1                40.12    0.0                  2.75          0.0  9.52   \n",
       "2                12.16    0.0                  0.00          0.0  0.00   \n",
       "3                 7.86    0.0                  0.00          0.0  0.00   \n",
       "4                16.73    0.0                  2.75          0.0  0.00   \n",
       "\n",
       "  shared_request_flag shared_match_flag  \n",
       "0                   N                 N  \n",
       "1                   N                 N  \n",
       "2                   Y                 N  \n",
       "3                   N                 N  \n",
       "4                   N                 N  "
      ]
     },
     "execution_count": 8,
     "metadata": {},
     "output_type": "execute_result"
    }
   ],
   "source": [
    "uber_202304.head()"
   ]
  },
  {
   "cell_type": "markdown",
   "metadata": {},
   "source": [
    "費用相關的feature保留'basic fare', 'airport_fee', 'congestion_surcharge'  \n",
    "'airport_fee'：起點或終點其中一個為機場，為2.5美元；兩者皆為機場則為5美元  \n",
    "'congestion_surcharge'：壅堵附加費是在起點、終點或途經曼哈頓南部的行程會收取，應比對上下車區域找出可能會被收取的起點終點  \n",
    "'tips'：可用來提供小費參考"
   ]
  },
  {
   "cell_type": "markdown",
   "metadata": {},
   "source": [
    "congestion_surcharge(壅堵附加費)為2.75美元，若為共乘，則每位乘客0.75美元"
   ]
  },
  {
   "cell_type": "code",
   "execution_count": 9,
   "metadata": {},
   "outputs": [
    {
     "data": {
      "text/plain": [
       "0.00    7964577\n",
       "2.75    5912874\n",
       "0.75     120962\n",
       "Name: congestion_surcharge, dtype: int64"
      ]
     },
     "execution_count": 9,
     "metadata": {},
     "output_type": "execute_result"
    }
   ],
   "source": [
    "uber_202304.congestion_surcharge.value_counts()"
   ]
  },
  {
   "cell_type": "markdown",
   "metadata": {},
   "source": []
  },
  {
   "cell_type": "markdown",
   "metadata": {},
   "source": [
    "比對起點區域、終點區域計算出tolls(通行費)"
   ]
  },
  {
   "cell_type": "code",
   "execution_count": null,
   "metadata": {},
   "outputs": [],
   "source": []
  }
 ],
 "metadata": {
  "kernelspec": {
   "display_name": "test_parquet",
   "language": "python",
   "name": "python3"
  },
  "language_info": {
   "codemirror_mode": {
    "name": "ipython",
    "version": 3
   },
   "file_extension": ".py",
   "mimetype": "text/x-python",
   "name": "python",
   "nbconvert_exporter": "python",
   "pygments_lexer": "ipython3",
   "version": "3.10.12"
  },
  "orig_nbformat": 4
 },
 "nbformat": 4,
 "nbformat_minor": 2
}
