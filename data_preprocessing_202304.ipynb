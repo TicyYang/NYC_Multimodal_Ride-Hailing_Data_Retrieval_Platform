{
 "cells": [
  {
   "cell_type": "markdown",
   "metadata": {},
   "source": [
    "期中提案僅針對最新的dataset (2023-04)進行資料清理與EDA"
   ]
  },
  {
   "cell_type": "markdown",
   "metadata": {},
   "source": [
    "https://d37ci6vzurychx.cloudfront.net/trip-data/fhvhv_tripdata_2023-04.parquet"
   ]
  },
  {
   "cell_type": "markdown",
   "metadata": {},
   "source": [
    "pip install pyarrow"
   ]
  },
  {
   "cell_type": "markdown",
   "metadata": {},
   "source": [
    "# Import Packages and Dataset"
   ]
  },
  {
   "cell_type": "code",
   "execution_count": 1,
   "metadata": {},
   "outputs": [],
   "source": [
    "import numpy as np\n",
    "import pandas as pd\n",
    "import matplotlib.pyplot as plt\n",
    "import seaborn as sns\n",
    "sns.set_style('darkgrid')\n",
    "%matplotlib inline"
   ]
  },
  {
   "cell_type": "code",
   "execution_count": 2,
   "metadata": {},
   "outputs": [],
   "source": [
    "fhvhv_202304 = pd.read_parquet('../fhvhv_tripdata_2023-04.parquet', engine='pyarrow')"
   ]
  },
  {
   "cell_type": "code",
   "execution_count": 3,
   "metadata": {},
   "outputs": [
    {
     "data": {
      "text/html": [
       "<div>\n",
       "<style scoped>\n",
       "    .dataframe tbody tr th:only-of-type {\n",
       "        vertical-align: middle;\n",
       "    }\n",
       "\n",
       "    .dataframe tbody tr th {\n",
       "        vertical-align: top;\n",
       "    }\n",
       "\n",
       "    .dataframe thead th {\n",
       "        text-align: right;\n",
       "    }\n",
       "</style>\n",
       "<table border=\"1\" class=\"dataframe\">\n",
       "  <thead>\n",
       "    <tr style=\"text-align: right;\">\n",
       "      <th></th>\n",
       "      <th>hvfhs_license_num</th>\n",
       "      <th>dispatching_base_num</th>\n",
       "      <th>originating_base_num</th>\n",
       "      <th>request_datetime</th>\n",
       "      <th>on_scene_datetime</th>\n",
       "      <th>pickup_datetime</th>\n",
       "      <th>dropoff_datetime</th>\n",
       "      <th>PULocationID</th>\n",
       "      <th>DOLocationID</th>\n",
       "      <th>trip_miles</th>\n",
       "      <th>...</th>\n",
       "      <th>sales_tax</th>\n",
       "      <th>congestion_surcharge</th>\n",
       "      <th>airport_fee</th>\n",
       "      <th>tips</th>\n",
       "      <th>driver_pay</th>\n",
       "      <th>shared_request_flag</th>\n",
       "      <th>shared_match_flag</th>\n",
       "      <th>access_a_ride_flag</th>\n",
       "      <th>wav_request_flag</th>\n",
       "      <th>wav_match_flag</th>\n",
       "    </tr>\n",
       "  </thead>\n",
       "  <tbody>\n",
       "    <tr>\n",
       "      <th>0</th>\n",
       "      <td>HV0003</td>\n",
       "      <td>B03404</td>\n",
       "      <td>B03404</td>\n",
       "      <td>2023-04-01 00:01:28</td>\n",
       "      <td>2023-04-01 00:02:41</td>\n",
       "      <td>2023-04-01 00:03:03</td>\n",
       "      <td>2023-04-01 00:15:42</td>\n",
       "      <td>174</td>\n",
       "      <td>126</td>\n",
       "      <td>5.10</td>\n",
       "      <td>...</td>\n",
       "      <td>1.82</td>\n",
       "      <td>0.00</td>\n",
       "      <td>0.0</td>\n",
       "      <td>0.00</td>\n",
       "      <td>13.83</td>\n",
       "      <td>N</td>\n",
       "      <td>N</td>\n",
       "      <td></td>\n",
       "      <td>N</td>\n",
       "      <td>N</td>\n",
       "    </tr>\n",
       "    <tr>\n",
       "      <th>1</th>\n",
       "      <td>HV0003</td>\n",
       "      <td>B03404</td>\n",
       "      <td>B03404</td>\n",
       "      <td>2023-04-01 00:39:40</td>\n",
       "      <td>2023-04-01 00:41:20</td>\n",
       "      <td>2023-04-01 00:43:42</td>\n",
       "      <td>2023-04-01 01:01:08</td>\n",
       "      <td>211</td>\n",
       "      <td>163</td>\n",
       "      <td>3.11</td>\n",
       "      <td>...</td>\n",
       "      <td>3.56</td>\n",
       "      <td>2.75</td>\n",
       "      <td>0.0</td>\n",
       "      <td>9.52</td>\n",
       "      <td>24.84</td>\n",
       "      <td>N</td>\n",
       "      <td>N</td>\n",
       "      <td></td>\n",
       "      <td>N</td>\n",
       "      <td>N</td>\n",
       "    </tr>\n",
       "    <tr>\n",
       "      <th>2</th>\n",
       "      <td>HV0003</td>\n",
       "      <td>B03404</td>\n",
       "      <td>B03404</td>\n",
       "      <td>2023-03-31 23:56:31</td>\n",
       "      <td>2023-04-01 00:00:20</td>\n",
       "      <td>2023-04-01 00:01:01</td>\n",
       "      <td>2023-04-01 00:09:48</td>\n",
       "      <td>222</td>\n",
       "      <td>76</td>\n",
       "      <td>2.40</td>\n",
       "      <td>...</td>\n",
       "      <td>1.08</td>\n",
       "      <td>0.00</td>\n",
       "      <td>0.0</td>\n",
       "      <td>0.00</td>\n",
       "      <td>8.10</td>\n",
       "      <td>Y</td>\n",
       "      <td>N</td>\n",
       "      <td></td>\n",
       "      <td>N</td>\n",
       "      <td>N</td>\n",
       "    </tr>\n",
       "    <tr>\n",
       "      <th>3</th>\n",
       "      <td>HV0003</td>\n",
       "      <td>B03404</td>\n",
       "      <td>B03404</td>\n",
       "      <td>2023-04-01 00:12:35</td>\n",
       "      <td>2023-04-01 00:16:04</td>\n",
       "      <td>2023-04-01 00:17:17</td>\n",
       "      <td>2023-04-01 00:19:12</td>\n",
       "      <td>76</td>\n",
       "      <td>124</td>\n",
       "      <td>0.43</td>\n",
       "      <td>...</td>\n",
       "      <td>0.70</td>\n",
       "      <td>0.00</td>\n",
       "      <td>0.0</td>\n",
       "      <td>0.00</td>\n",
       "      <td>5.40</td>\n",
       "      <td>N</td>\n",
       "      <td>N</td>\n",
       "      <td></td>\n",
       "      <td>N</td>\n",
       "      <td>N</td>\n",
       "    </tr>\n",
       "    <tr>\n",
       "      <th>4</th>\n",
       "      <td>HV0003</td>\n",
       "      <td>B03404</td>\n",
       "      <td>B03404</td>\n",
       "      <td>2023-04-01 00:46:23</td>\n",
       "      <td>2023-04-01 00:47:30</td>\n",
       "      <td>2023-04-01 00:47:49</td>\n",
       "      <td>2023-04-01 01:05:23</td>\n",
       "      <td>263</td>\n",
       "      <td>247</td>\n",
       "      <td>4.18</td>\n",
       "      <td>...</td>\n",
       "      <td>1.48</td>\n",
       "      <td>2.75</td>\n",
       "      <td>0.0</td>\n",
       "      <td>0.00</td>\n",
       "      <td>15.65</td>\n",
       "      <td>N</td>\n",
       "      <td>N</td>\n",
       "      <td></td>\n",
       "      <td>N</td>\n",
       "      <td>N</td>\n",
       "    </tr>\n",
       "  </tbody>\n",
       "</table>\n",
       "<p>5 rows × 24 columns</p>\n",
       "</div>"
      ],
      "text/plain": [
       "  hvfhs_license_num dispatching_base_num originating_base_num  \\\n",
       "0            HV0003               B03404               B03404   \n",
       "1            HV0003               B03404               B03404   \n",
       "2            HV0003               B03404               B03404   \n",
       "3            HV0003               B03404               B03404   \n",
       "4            HV0003               B03404               B03404   \n",
       "\n",
       "     request_datetime   on_scene_datetime     pickup_datetime  \\\n",
       "0 2023-04-01 00:01:28 2023-04-01 00:02:41 2023-04-01 00:03:03   \n",
       "1 2023-04-01 00:39:40 2023-04-01 00:41:20 2023-04-01 00:43:42   \n",
       "2 2023-03-31 23:56:31 2023-04-01 00:00:20 2023-04-01 00:01:01   \n",
       "3 2023-04-01 00:12:35 2023-04-01 00:16:04 2023-04-01 00:17:17   \n",
       "4 2023-04-01 00:46:23 2023-04-01 00:47:30 2023-04-01 00:47:49   \n",
       "\n",
       "     dropoff_datetime  PULocationID  DOLocationID  trip_miles  ...  sales_tax  \\\n",
       "0 2023-04-01 00:15:42           174           126        5.10  ...       1.82   \n",
       "1 2023-04-01 01:01:08           211           163        3.11  ...       3.56   \n",
       "2 2023-04-01 00:09:48           222            76        2.40  ...       1.08   \n",
       "3 2023-04-01 00:19:12            76           124        0.43  ...       0.70   \n",
       "4 2023-04-01 01:05:23           263           247        4.18  ...       1.48   \n",
       "\n",
       "   congestion_surcharge  airport_fee  tips  driver_pay  shared_request_flag  \\\n",
       "0                  0.00          0.0  0.00       13.83                    N   \n",
       "1                  2.75          0.0  9.52       24.84                    N   \n",
       "2                  0.00          0.0  0.00        8.10                    Y   \n",
       "3                  0.00          0.0  0.00        5.40                    N   \n",
       "4                  2.75          0.0  0.00       15.65                    N   \n",
       "\n",
       "   shared_match_flag  access_a_ride_flag  wav_request_flag wav_match_flag  \n",
       "0                  N                                     N              N  \n",
       "1                  N                                     N              N  \n",
       "2                  N                                     N              N  \n",
       "3                  N                                     N              N  \n",
       "4                  N                                     N              N  \n",
       "\n",
       "[5 rows x 24 columns]"
      ]
     },
     "execution_count": 3,
     "metadata": {},
     "output_type": "execute_result"
    }
   ],
   "source": [
    "fhvhv_202304.head()"
   ]
  },
  {
   "cell_type": "code",
   "execution_count": 4,
   "metadata": {},
   "outputs": [
    {
     "data": {
      "text/plain": [
       "(19144903, 24)"
      ]
     },
     "execution_count": 4,
     "metadata": {},
     "output_type": "execute_result"
    }
   ],
   "source": [
    "fhvhv_202304.shape"
   ]
  },
  {
   "cell_type": "markdown",
   "metadata": {},
   "source": [
    "僅保留Uber (HV0003) 的紀錄"
   ]
  },
  {
   "cell_type": "code",
   "execution_count": 5,
   "metadata": {},
   "outputs": [
    {
     "data": {
      "text/plain": [
       "(13998413, 24)"
      ]
     },
     "execution_count": 5,
     "metadata": {},
     "output_type": "execute_result"
    }
   ],
   "source": [
    "uber_202304 = fhvhv_202304[fhvhv_202304['hvfhs_license_num'] == 'HV0003']\n",
    "uber_202304.reset_index(drop=True, inplace=True)\n",
    "uber_202304.shape"
   ]
  },
  {
   "cell_type": "markdown",
   "metadata": {},
   "source": [
    "# 刪除共乘紀錄"
   ]
  },
  {
   "cell_type": "markdown",
   "metadata": {},
   "source": [
    "共乘紀錄約10萬筆 (約0.75%)  \n",
    "Uber的共乘服務舊名為Uber Pool，受疫情影響於2020年3月17暫停  \n",
    "新版的UberX Share在2022年11月1日上線，官方宣稱共乘的車資有最高20%優惠  \n",
    "處理所有的資料時要考慮暫停即恢復服務的時間，且無法確定新舊版服務的優惠是否有差異  \n",
    "若要準確預測價格應分開建模，但專案複雜度會太高"
   ]
  },
  {
   "cell_type": "code",
   "execution_count": 6,
   "metadata": {},
   "outputs": [
    {
     "name": "stdout",
     "output_type": "stream",
     "text": [
      "Shared records: 105461\n",
      "Percentage of shared records in all records: 0.75%\n"
     ]
    }
   ],
   "source": [
    "share_records = uber_202304[uber_202304.shared_match_flag == \"Y\"].shape[0]\n",
    "all_records = uber_202304.shape[0]\n",
    "p_share_in_all = round((share_records / all_records * 100), 2)\n",
    "print(f'Shared records: {share_records}')\n",
    "print(f'Percentage of shared records in all records: {p_share_in_all}%')"
   ]
  },
  {
   "cell_type": "code",
   "execution_count": 7,
   "metadata": {},
   "outputs": [
    {
     "data": {
      "text/html": [
       "<div>\n",
       "<style scoped>\n",
       "    .dataframe tbody tr th:only-of-type {\n",
       "        vertical-align: middle;\n",
       "    }\n",
       "\n",
       "    .dataframe tbody tr th {\n",
       "        vertical-align: top;\n",
       "    }\n",
       "\n",
       "    .dataframe thead th {\n",
       "        text-align: right;\n",
       "    }\n",
       "</style>\n",
       "<table border=\"1\" class=\"dataframe\">\n",
       "  <thead>\n",
       "    <tr style=\"text-align: right;\">\n",
       "      <th></th>\n",
       "      <th>hvfhs_license_num</th>\n",
       "      <th>dispatching_base_num</th>\n",
       "      <th>originating_base_num</th>\n",
       "      <th>request_datetime</th>\n",
       "      <th>on_scene_datetime</th>\n",
       "      <th>pickup_datetime</th>\n",
       "      <th>dropoff_datetime</th>\n",
       "      <th>PULocationID</th>\n",
       "      <th>DOLocationID</th>\n",
       "      <th>trip_miles</th>\n",
       "      <th>...</th>\n",
       "      <th>sales_tax</th>\n",
       "      <th>congestion_surcharge</th>\n",
       "      <th>airport_fee</th>\n",
       "      <th>tips</th>\n",
       "      <th>driver_pay</th>\n",
       "      <th>shared_request_flag</th>\n",
       "      <th>shared_match_flag</th>\n",
       "      <th>access_a_ride_flag</th>\n",
       "      <th>wav_request_flag</th>\n",
       "      <th>wav_match_flag</th>\n",
       "    </tr>\n",
       "  </thead>\n",
       "  <tbody>\n",
       "    <tr>\n",
       "      <th>0</th>\n",
       "      <td>HV0003</td>\n",
       "      <td>B03404</td>\n",
       "      <td>B03404</td>\n",
       "      <td>2023-04-01 00:01:28</td>\n",
       "      <td>2023-04-01 00:02:41</td>\n",
       "      <td>2023-04-01 00:03:03</td>\n",
       "      <td>2023-04-01 00:15:42</td>\n",
       "      <td>174</td>\n",
       "      <td>126</td>\n",
       "      <td>5.10</td>\n",
       "      <td>...</td>\n",
       "      <td>1.82</td>\n",
       "      <td>0.00</td>\n",
       "      <td>0.0</td>\n",
       "      <td>0.00</td>\n",
       "      <td>13.83</td>\n",
       "      <td>N</td>\n",
       "      <td>N</td>\n",
       "      <td></td>\n",
       "      <td>N</td>\n",
       "      <td>N</td>\n",
       "    </tr>\n",
       "    <tr>\n",
       "      <th>1</th>\n",
       "      <td>HV0003</td>\n",
       "      <td>B03404</td>\n",
       "      <td>B03404</td>\n",
       "      <td>2023-04-01 00:39:40</td>\n",
       "      <td>2023-04-01 00:41:20</td>\n",
       "      <td>2023-04-01 00:43:42</td>\n",
       "      <td>2023-04-01 01:01:08</td>\n",
       "      <td>211</td>\n",
       "      <td>163</td>\n",
       "      <td>3.11</td>\n",
       "      <td>...</td>\n",
       "      <td>3.56</td>\n",
       "      <td>2.75</td>\n",
       "      <td>0.0</td>\n",
       "      <td>9.52</td>\n",
       "      <td>24.84</td>\n",
       "      <td>N</td>\n",
       "      <td>N</td>\n",
       "      <td></td>\n",
       "      <td>N</td>\n",
       "      <td>N</td>\n",
       "    </tr>\n",
       "    <tr>\n",
       "      <th>2</th>\n",
       "      <td>HV0003</td>\n",
       "      <td>B03404</td>\n",
       "      <td>B03404</td>\n",
       "      <td>2023-03-31 23:56:31</td>\n",
       "      <td>2023-04-01 00:00:20</td>\n",
       "      <td>2023-04-01 00:01:01</td>\n",
       "      <td>2023-04-01 00:09:48</td>\n",
       "      <td>222</td>\n",
       "      <td>76</td>\n",
       "      <td>2.40</td>\n",
       "      <td>...</td>\n",
       "      <td>1.08</td>\n",
       "      <td>0.00</td>\n",
       "      <td>0.0</td>\n",
       "      <td>0.00</td>\n",
       "      <td>8.10</td>\n",
       "      <td>Y</td>\n",
       "      <td>N</td>\n",
       "      <td></td>\n",
       "      <td>N</td>\n",
       "      <td>N</td>\n",
       "    </tr>\n",
       "    <tr>\n",
       "      <th>3</th>\n",
       "      <td>HV0003</td>\n",
       "      <td>B03404</td>\n",
       "      <td>B03404</td>\n",
       "      <td>2023-04-01 00:12:35</td>\n",
       "      <td>2023-04-01 00:16:04</td>\n",
       "      <td>2023-04-01 00:17:17</td>\n",
       "      <td>2023-04-01 00:19:12</td>\n",
       "      <td>76</td>\n",
       "      <td>124</td>\n",
       "      <td>0.43</td>\n",
       "      <td>...</td>\n",
       "      <td>0.70</td>\n",
       "      <td>0.00</td>\n",
       "      <td>0.0</td>\n",
       "      <td>0.00</td>\n",
       "      <td>5.40</td>\n",
       "      <td>N</td>\n",
       "      <td>N</td>\n",
       "      <td></td>\n",
       "      <td>N</td>\n",
       "      <td>N</td>\n",
       "    </tr>\n",
       "    <tr>\n",
       "      <th>4</th>\n",
       "      <td>HV0003</td>\n",
       "      <td>B03404</td>\n",
       "      <td>B03404</td>\n",
       "      <td>2023-04-01 00:46:23</td>\n",
       "      <td>2023-04-01 00:47:30</td>\n",
       "      <td>2023-04-01 00:47:49</td>\n",
       "      <td>2023-04-01 01:05:23</td>\n",
       "      <td>263</td>\n",
       "      <td>247</td>\n",
       "      <td>4.18</td>\n",
       "      <td>...</td>\n",
       "      <td>1.48</td>\n",
       "      <td>2.75</td>\n",
       "      <td>0.0</td>\n",
       "      <td>0.00</td>\n",
       "      <td>15.65</td>\n",
       "      <td>N</td>\n",
       "      <td>N</td>\n",
       "      <td></td>\n",
       "      <td>N</td>\n",
       "      <td>N</td>\n",
       "    </tr>\n",
       "  </tbody>\n",
       "</table>\n",
       "<p>5 rows × 24 columns</p>\n",
       "</div>"
      ],
      "text/plain": [
       "  hvfhs_license_num dispatching_base_num originating_base_num  \\\n",
       "0            HV0003               B03404               B03404   \n",
       "1            HV0003               B03404               B03404   \n",
       "2            HV0003               B03404               B03404   \n",
       "3            HV0003               B03404               B03404   \n",
       "4            HV0003               B03404               B03404   \n",
       "\n",
       "     request_datetime   on_scene_datetime     pickup_datetime  \\\n",
       "0 2023-04-01 00:01:28 2023-04-01 00:02:41 2023-04-01 00:03:03   \n",
       "1 2023-04-01 00:39:40 2023-04-01 00:41:20 2023-04-01 00:43:42   \n",
       "2 2023-03-31 23:56:31 2023-04-01 00:00:20 2023-04-01 00:01:01   \n",
       "3 2023-04-01 00:12:35 2023-04-01 00:16:04 2023-04-01 00:17:17   \n",
       "4 2023-04-01 00:46:23 2023-04-01 00:47:30 2023-04-01 00:47:49   \n",
       "\n",
       "     dropoff_datetime  PULocationID  DOLocationID  trip_miles  ...  sales_tax  \\\n",
       "0 2023-04-01 00:15:42           174           126        5.10  ...       1.82   \n",
       "1 2023-04-01 01:01:08           211           163        3.11  ...       3.56   \n",
       "2 2023-04-01 00:09:48           222            76        2.40  ...       1.08   \n",
       "3 2023-04-01 00:19:12            76           124        0.43  ...       0.70   \n",
       "4 2023-04-01 01:05:23           263           247        4.18  ...       1.48   \n",
       "\n",
       "   congestion_surcharge  airport_fee  tips  driver_pay  shared_request_flag  \\\n",
       "0                  0.00          0.0  0.00       13.83                    N   \n",
       "1                  2.75          0.0  9.52       24.84                    N   \n",
       "2                  0.00          0.0  0.00        8.10                    Y   \n",
       "3                  0.00          0.0  0.00        5.40                    N   \n",
       "4                  2.75          0.0  0.00       15.65                    N   \n",
       "\n",
       "   shared_match_flag  access_a_ride_flag  wav_request_flag wav_match_flag  \n",
       "0                  N                                     N              N  \n",
       "1                  N                                     N              N  \n",
       "2                  N                                     N              N  \n",
       "3                  N                                     N              N  \n",
       "4                  N                                     N              N  \n",
       "\n",
       "[5 rows x 24 columns]"
      ]
     },
     "execution_count": 7,
     "metadata": {},
     "output_type": "execute_result"
    }
   ],
   "source": [
    "uber_202304 = uber_202304[uber_202304.shared_match_flag == \"N\"]\n",
    "uber_202304.reset_index(drop=True, inplace=True)\n",
    "uber_202304.head()"
   ]
  },
  {
   "cell_type": "markdown",
   "metadata": {},
   "source": [
    "# 刪除features"
   ]
  },
  {
   "cell_type": "markdown",
   "metadata": {},
   "source": [
    "*'hvfhs_license_num'*：已經篩選出Uber，全為'HV0003'；  \n",
    "*'dispatching_base_num'*, *'originating_base_num'*：基地為哪一個不重要，大部分司機收到需求時應不是從基地出發；  \n",
    "*'bcf'*, *'sales_tax'*：皆是按固定百分比計算，不須預測；  \n",
    "*'congestion_surcharge'*：固定時段收費，不須預測；   \n",
    "*'driver_pay'*：為Uber支付給司機的金額，乘客不需要此資訊；  \n",
    "*'shared_request_flag'*、*'shared_match_flag'*：刪除共乘紀錄後就不需要了；  \n",
    "*'access_a_ride_flag'*：不重要的資訊；  \n",
    "*'wav_request_flag'*、*'wav_match_flag'*：Uber官方宣稱WAV的行程費用與UberX相當，因此除非車資有差異，否則不需要此資訊"
   ]
  },
  {
   "cell_type": "code",
   "execution_count": 8,
   "metadata": {},
   "outputs": [
    {
     "name": "stdout",
     "output_type": "stream",
     "text": [
      "Num of features after deleting: 12\n"
     ]
    }
   ],
   "source": [
    "uber_202304 = uber_202304.drop(columns=['hvfhs_license_num', 'dispatching_base_num', 'originating_base_num', 'bcf', 'sales_tax', 'congestion_surcharge', 'driver_pay', 'shared_request_flag', 'shared_match_flag', 'access_a_ride_flag', 'wav_request_flag', 'wav_match_flag'], axis=1)\n",
    "print(f'Num of features after deleting: {uber_202304.shape[1]}')"
   ]
  },
  {
   "cell_type": "markdown",
   "metadata": {},
   "source": [
    "# 檢查missing value, data types, outlier"
   ]
  },
  {
   "cell_type": "code",
   "execution_count": 9,
   "metadata": {},
   "outputs": [
    {
     "name": "stdout",
     "output_type": "stream",
     "text": [
      "<class 'pandas.core.frame.DataFrame'>\n",
      "RangeIndex: 13892952 entries, 0 to 13892951\n",
      "Data columns (total 12 columns):\n",
      " #   Column               Non-Null Count     Dtype         \n",
      "---  ------               --------------     -----         \n",
      " 0   request_datetime     13892952 non-null  datetime64[ns]\n",
      " 1   on_scene_datetime    13892952 non-null  datetime64[ns]\n",
      " 2   pickup_datetime      13892952 non-null  datetime64[ns]\n",
      " 3   dropoff_datetime     13892952 non-null  datetime64[ns]\n",
      " 4   PULocationID         13892952 non-null  int32         \n",
      " 5   DOLocationID         13892952 non-null  int32         \n",
      " 6   trip_miles           13892952 non-null  float64       \n",
      " 7   trip_time            13892952 non-null  int64         \n",
      " 8   base_passenger_fare  13892952 non-null  float64       \n",
      " 9   tolls                13892952 non-null  float64       \n",
      " 10  airport_fee          13892952 non-null  float64       \n",
      " 11  tips                 13892952 non-null  float64       \n",
      "dtypes: datetime64[ns](4), float64(5), int32(2), int64(1)\n",
      "memory usage: 1.1 GB\n"
     ]
    }
   ],
   "source": [
    "uber_202304.info(show_counts=True)"
   ]
  },
  {
   "cell_type": "code",
   "execution_count": 10,
   "metadata": {},
   "outputs": [
    {
     "data": {
      "text/html": [
       "<div>\n",
       "<style scoped>\n",
       "    .dataframe tbody tr th:only-of-type {\n",
       "        vertical-align: middle;\n",
       "    }\n",
       "\n",
       "    .dataframe tbody tr th {\n",
       "        vertical-align: top;\n",
       "    }\n",
       "\n",
       "    .dataframe thead th {\n",
       "        text-align: right;\n",
       "    }\n",
       "</style>\n",
       "<table border=\"1\" class=\"dataframe\">\n",
       "  <thead>\n",
       "    <tr style=\"text-align: right;\">\n",
       "      <th></th>\n",
       "      <th>trip_miles</th>\n",
       "      <th>trip_time</th>\n",
       "      <th>base_passenger_fare</th>\n",
       "      <th>tolls</th>\n",
       "      <th>airport_fee</th>\n",
       "      <th>tips</th>\n",
       "    </tr>\n",
       "  </thead>\n",
       "  <tbody>\n",
       "    <tr>\n",
       "      <th>count</th>\n",
       "      <td>1.389295e+07</td>\n",
       "      <td>1.389295e+07</td>\n",
       "      <td>1.389295e+07</td>\n",
       "      <td>1.389295e+07</td>\n",
       "      <td>1.389295e+07</td>\n",
       "      <td>1.389295e+07</td>\n",
       "    </tr>\n",
       "    <tr>\n",
       "      <th>mean</th>\n",
       "      <td>5.012595e+00</td>\n",
       "      <td>1.158220e+03</td>\n",
       "      <td>2.504756e+01</td>\n",
       "      <td>1.121717e+00</td>\n",
       "      <td>1.882889e-01</td>\n",
       "      <td>1.114526e+00</td>\n",
       "    </tr>\n",
       "    <tr>\n",
       "      <th>std</th>\n",
       "      <td>5.881791e+00</td>\n",
       "      <td>8.274320e+02</td>\n",
       "      <td>2.114031e+01</td>\n",
       "      <td>3.955256e+00</td>\n",
       "      <td>6.620569e-01</td>\n",
       "      <td>3.156857e+00</td>\n",
       "    </tr>\n",
       "    <tr>\n",
       "      <th>min</th>\n",
       "      <td>0.000000e+00</td>\n",
       "      <td>0.000000e+00</td>\n",
       "      <td>-1.162800e+02</td>\n",
       "      <td>0.000000e+00</td>\n",
       "      <td>0.000000e+00</td>\n",
       "      <td>0.000000e+00</td>\n",
       "    </tr>\n",
       "    <tr>\n",
       "      <th>25%</th>\n",
       "      <td>1.570000e+00</td>\n",
       "      <td>5.850000e+02</td>\n",
       "      <td>1.187000e+01</td>\n",
       "      <td>0.000000e+00</td>\n",
       "      <td>0.000000e+00</td>\n",
       "      <td>0.000000e+00</td>\n",
       "    </tr>\n",
       "    <tr>\n",
       "      <th>50%</th>\n",
       "      <td>2.940000e+00</td>\n",
       "      <td>9.420000e+02</td>\n",
       "      <td>1.895000e+01</td>\n",
       "      <td>0.000000e+00</td>\n",
       "      <td>0.000000e+00</td>\n",
       "      <td>0.000000e+00</td>\n",
       "    </tr>\n",
       "    <tr>\n",
       "      <th>75%</th>\n",
       "      <td>6.180000e+00</td>\n",
       "      <td>1.486000e+03</td>\n",
       "      <td>3.058000e+01</td>\n",
       "      <td>0.000000e+00</td>\n",
       "      <td>0.000000e+00</td>\n",
       "      <td>0.000000e+00</td>\n",
       "    </tr>\n",
       "    <tr>\n",
       "      <th>max</th>\n",
       "      <td>3.621900e+02</td>\n",
       "      <td>3.085100e+04</td>\n",
       "      <td>1.501240e+03</td>\n",
       "      <td>9.715000e+01</td>\n",
       "      <td>5.000000e+00</td>\n",
       "      <td>1.892000e+02</td>\n",
       "    </tr>\n",
       "  </tbody>\n",
       "</table>\n",
       "</div>"
      ],
      "text/plain": [
       "         trip_miles     trip_time  base_passenger_fare         tolls  \\\n",
       "count  1.389295e+07  1.389295e+07         1.389295e+07  1.389295e+07   \n",
       "mean   5.012595e+00  1.158220e+03         2.504756e+01  1.121717e+00   \n",
       "std    5.881791e+00  8.274320e+02         2.114031e+01  3.955256e+00   \n",
       "min    0.000000e+00  0.000000e+00        -1.162800e+02  0.000000e+00   \n",
       "25%    1.570000e+00  5.850000e+02         1.187000e+01  0.000000e+00   \n",
       "50%    2.940000e+00  9.420000e+02         1.895000e+01  0.000000e+00   \n",
       "75%    6.180000e+00  1.486000e+03         3.058000e+01  0.000000e+00   \n",
       "max    3.621900e+02  3.085100e+04         1.501240e+03  9.715000e+01   \n",
       "\n",
       "        airport_fee          tips  \n",
       "count  1.389295e+07  1.389295e+07  \n",
       "mean   1.882889e-01  1.114526e+00  \n",
       "std    6.620569e-01  3.156857e+00  \n",
       "min    0.000000e+00  0.000000e+00  \n",
       "25%    0.000000e+00  0.000000e+00  \n",
       "50%    0.000000e+00  0.000000e+00  \n",
       "75%    0.000000e+00  0.000000e+00  \n",
       "max    5.000000e+00  1.892000e+02  "
      ]
     },
     "execution_count": 10,
     "metadata": {},
     "output_type": "execute_result"
    }
   ],
   "source": [
    "uber_202304.loc[:, ['trip_miles', 'trip_time', 'base_passenger_fare', 'tolls', 'airport_fee', 'tips']].describe()"
   ]
  },
  {
   "cell_type": "markdown",
   "metadata": {},
   "source": [
    "## 檢查trip_miles"
   ]
  },
  {
   "cell_type": "code",
   "execution_count": 11,
   "metadata": {},
   "outputs": [
    {
     "name": "stdout",
     "output_type": "stream",
     "text": [
      "75%: 6.18\n",
      "76%: 6.41\n",
      "77%: 6.65\n",
      "78%: 6.9\n",
      "79%: 7.18\n",
      "80%: 7.47\n",
      "81%: 7.78\n",
      "82%: 8.1\n",
      "83%: 8.45\n",
      "84%: 8.81\n",
      "85%: 9.19\n",
      "86%: 9.58\n",
      "87%: 9.99\n",
      "88%: 10.43\n",
      "89%: 10.93\n",
      "90%: 11.52\n",
      "91%: 12.21\n",
      "92%: 13.07\n",
      "93%: 14.1\n",
      "94%: 15.31\n",
      "95%: 16.67\n",
      "96%: 17.77\n",
      "97%: 19.03\n",
      "98%: 21.36\n",
      "99%: 27.33\n",
      "100%: 362.19\n"
     ]
    }
   ],
   "source": [
    "for i in range(75, 101, 1):\n",
    "    print(f'{i}%: {uber_202304.trip_miles.quantile(i/100)}')"
   ]
  },
  {
   "cell_type": "code",
   "execution_count": 12,
   "metadata": {},
   "outputs": [],
   "source": [
    "# threshold_trip_miles = uber_202304.trip_miles.quantile(0.99)\n",
    "# for_trip_miles_hist = uber_202304[uber_202304.trip_miles < threshold_trip_miles]\n",
    "# sns.histplot(for_trip_miles_hist.trip_miles, kde=True)"
   ]
  },
  {
   "cell_type": "markdown",
   "metadata": {},
   "source": [
    "## 檢查trip_time"
   ]
  },
  {
   "cell_type": "code",
   "execution_count": 13,
   "metadata": {},
   "outputs": [
    {
     "name": "stdout",
     "output_type": "stream",
     "text": [
      "75%: 1486.0\n",
      "76%: 1517.0\n",
      "77%: 1550.0\n",
      "78%: 1584.0\n",
      "79%: 1620.0\n",
      "80%: 1657.0\n",
      "81%: 1697.0\n",
      "82%: 1738.0\n",
      "83%: 1783.0\n",
      "84%: 1829.0\n",
      "85%: 1880.0\n",
      "86%: 1933.0\n",
      "87%: 1991.0\n",
      "88%: 2054.0\n",
      "89%: 2122.0\n",
      "90%: 2198.0\n",
      "91%: 2281.0\n",
      "92%: 2375.0\n",
      "93%: 2483.0\n",
      "94%: 2608.0\n",
      "95%: 2757.0\n",
      "96%: 2941.0\n",
      "97%: 3180.0\n",
      "98%: 3521.0\n",
      "99%: 4105.0\n",
      "100%: 30851.0\n"
     ]
    }
   ],
   "source": [
    "for j in range(75, 101, 1):\n",
    "    print(f'{j}%: {uber_202304.trip_time.quantile(j/100)}')"
   ]
  },
  {
   "cell_type": "code",
   "execution_count": 14,
   "metadata": {},
   "outputs": [],
   "source": [
    "# threshold_trip_time = uber_202304.trip_time.quantile(0.99)\n",
    "# for_trip_time_hist = uber_202304[uber_202304.trip_time < threshold_trip_time]\n",
    "# sns.histplot(for_trip_time_hist.trip_time, kde=True)"
   ]
  },
  {
   "cell_type": "markdown",
   "metadata": {},
   "source": [
    "# 計算等待時間"
   ]
  },
  {
   "cell_type": "markdown",
   "metadata": {},
   "source": [
    "用'request_datetime'、'on_scene_datetime'、'pickup_datetime'計算乘客和司機等待時間，單位為分鐘，計算至小數點後2位"
   ]
  },
  {
   "cell_type": "markdown",
   "metadata": {},
   "source": [
    "*'rider_waiting_time'*：叫車到司機抵達的時間差，為乘客等待時間  \n",
    "*'driver_waiting_time'*：司機抵達到乘客上車的時間差，為司機等待時間"
   ]
  },
  {
   "cell_type": "code",
   "execution_count": 15,
   "metadata": {},
   "outputs": [],
   "source": [
    "uber_202304['rider_waiting_time'] = uber_202304['on_scene_datetime'] - uber_202304['request_datetime']\n",
    "uber_202304['rider_waiting_time'] = round(uber_202304['rider_waiting_time'] / np.timedelta64(60, 's'), 2)\n",
    "\n",
    "\n",
    "uber_202304['driver_waiting_time'] = uber_202304['pickup_datetime'] - uber_202304['on_scene_datetime']\n",
    "uber_202304['driver_waiting_time'] = round(uber_202304['driver_waiting_time'] / np.timedelta64(60, 's'), 2)"
   ]
  },
  {
   "cell_type": "code",
   "execution_count": 16,
   "metadata": {},
   "outputs": [
    {
     "data": {
      "text/html": [
       "<div>\n",
       "<style scoped>\n",
       "    .dataframe tbody tr th:only-of-type {\n",
       "        vertical-align: middle;\n",
       "    }\n",
       "\n",
       "    .dataframe tbody tr th {\n",
       "        vertical-align: top;\n",
       "    }\n",
       "\n",
       "    .dataframe thead th {\n",
       "        text-align: right;\n",
       "    }\n",
       "</style>\n",
       "<table border=\"1\" class=\"dataframe\">\n",
       "  <thead>\n",
       "    <tr style=\"text-align: right;\">\n",
       "      <th></th>\n",
       "      <th>rider_waiting_time</th>\n",
       "      <th>driver_waiting_time</th>\n",
       "    </tr>\n",
       "  </thead>\n",
       "  <tbody>\n",
       "    <tr>\n",
       "      <th>0</th>\n",
       "      <td>1.22</td>\n",
       "      <td>0.37</td>\n",
       "    </tr>\n",
       "    <tr>\n",
       "      <th>1</th>\n",
       "      <td>1.67</td>\n",
       "      <td>2.37</td>\n",
       "    </tr>\n",
       "    <tr>\n",
       "      <th>2</th>\n",
       "      <td>3.82</td>\n",
       "      <td>0.68</td>\n",
       "    </tr>\n",
       "    <tr>\n",
       "      <th>3</th>\n",
       "      <td>3.48</td>\n",
       "      <td>1.22</td>\n",
       "    </tr>\n",
       "    <tr>\n",
       "      <th>4</th>\n",
       "      <td>1.12</td>\n",
       "      <td>0.32</td>\n",
       "    </tr>\n",
       "  </tbody>\n",
       "</table>\n",
       "</div>"
      ],
      "text/plain": [
       "   rider_waiting_time  driver_waiting_time\n",
       "0                1.22                 0.37\n",
       "1                1.67                 2.37\n",
       "2                3.82                 0.68\n",
       "3                3.48                 1.22\n",
       "4                1.12                 0.32"
      ]
     },
     "execution_count": 16,
     "metadata": {},
     "output_type": "execute_result"
    }
   ],
   "source": [
    "uber_202304[['rider_waiting_time', 'driver_waiting_time']].head()"
   ]
  },
  {
   "cell_type": "code",
   "execution_count": 17,
   "metadata": {},
   "outputs": [
    {
     "data": {
      "text/html": [
       "<div>\n",
       "<style scoped>\n",
       "    .dataframe tbody tr th:only-of-type {\n",
       "        vertical-align: middle;\n",
       "    }\n",
       "\n",
       "    .dataframe tbody tr th {\n",
       "        vertical-align: top;\n",
       "    }\n",
       "\n",
       "    .dataframe thead th {\n",
       "        text-align: right;\n",
       "    }\n",
       "</style>\n",
       "<table border=\"1\" class=\"dataframe\">\n",
       "  <thead>\n",
       "    <tr style=\"text-align: right;\">\n",
       "      <th></th>\n",
       "      <th>rider_waiting_time</th>\n",
       "      <th>driver_waiting_time</th>\n",
       "    </tr>\n",
       "  </thead>\n",
       "  <tbody>\n",
       "    <tr>\n",
       "      <th>count</th>\n",
       "      <td>1.389295e+07</td>\n",
       "      <td>1.389295e+07</td>\n",
       "    </tr>\n",
       "    <tr>\n",
       "      <th>mean</th>\n",
       "      <td>3.527955e+00</td>\n",
       "      <td>9.900605e-01</td>\n",
       "    </tr>\n",
       "    <tr>\n",
       "      <th>std</th>\n",
       "      <td>3.145273e+00</td>\n",
       "      <td>1.544575e+00</td>\n",
       "    </tr>\n",
       "    <tr>\n",
       "      <th>min</th>\n",
       "      <td>-1.683000e+02</td>\n",
       "      <td>-2.269000e+02</td>\n",
       "    </tr>\n",
       "    <tr>\n",
       "      <th>25%</th>\n",
       "      <td>1.750000e+00</td>\n",
       "      <td>2.700000e-01</td>\n",
       "    </tr>\n",
       "    <tr>\n",
       "      <th>50%</th>\n",
       "      <td>2.980000e+00</td>\n",
       "      <td>6.800000e-01</td>\n",
       "    </tr>\n",
       "    <tr>\n",
       "      <th>75%</th>\n",
       "      <td>4.770000e+00</td>\n",
       "      <td>1.600000e+00</td>\n",
       "    </tr>\n",
       "    <tr>\n",
       "      <th>max</th>\n",
       "      <td>6.610200e+02</td>\n",
       "      <td>1.244030e+03</td>\n",
       "    </tr>\n",
       "  </tbody>\n",
       "</table>\n",
       "</div>"
      ],
      "text/plain": [
       "       rider_waiting_time  driver_waiting_time\n",
       "count        1.389295e+07         1.389295e+07\n",
       "mean         3.527955e+00         9.900605e-01\n",
       "std          3.145273e+00         1.544575e+00\n",
       "min         -1.683000e+02        -2.269000e+02\n",
       "25%          1.750000e+00         2.700000e-01\n",
       "50%          2.980000e+00         6.800000e-01\n",
       "75%          4.770000e+00         1.600000e+00\n",
       "max          6.610200e+02         1.244030e+03"
      ]
     },
     "execution_count": 17,
     "metadata": {},
     "output_type": "execute_result"
    }
   ],
   "source": [
    "uber_202304.loc[:, ['rider_waiting_time', 'driver_waiting_time']].describe()"
   ]
  },
  {
   "cell_type": "markdown",
   "metadata": {},
   "source": [
    "有等待時間小於0的紀錄，不太合理，檢查有幾筆"
   ]
  },
  {
   "cell_type": "code",
   "execution_count": 18,
   "metadata": {},
   "outputs": [
    {
     "name": "stdout",
     "output_type": "stream",
     "text": [
      "Num of rider waiting time less than 0 mins: 109797\n",
      "Num of dirver waiting time less than 0 mins: 4470\n"
     ]
    }
   ],
   "source": [
    "print(f'Num of rider waiting time less than 0 mins: {uber_202304[uber_202304.rider_waiting_time < 0].shape[0]}')\n",
    "print(f'Num of dirver waiting time less than 0 mins: {uber_202304[uber_202304.driver_waiting_time < 0].shape[0]}')"
   ]
  },
  {
   "cell_type": "markdown",
   "metadata": {},
   "source": [
    "筆數相當多，不適合刪除，預計將小於0的用0替換"
   ]
  },
  {
   "cell_type": "markdown",
   "metadata": {},
   "source": [
    "# 費用相關"
   ]
  },
  {
   "cell_type": "markdown",
   "metadata": {},
   "source": [
    "費用相關的feature：  \n",
    "● *'tolls'*：紐約的通行費定義複雜，預計與起點終點區域進行比對，來預測通行費  \n",
    "● *'airport_fee'*：起點或終點其中一個為機場，為2.5美元；兩者皆為機場則為5美元  \n",
    "● *'tips'*：可用來提供小費參考"
   ]
  },
  {
   "cell_type": "markdown",
   "metadata": {},
   "source": [
    "比對起點區域、終點區域計算出tolls(通行費)"
   ]
  },
  {
   "cell_type": "code",
   "execution_count": null,
   "metadata": {},
   "outputs": [],
   "source": []
  },
  {
   "cell_type": "markdown",
   "metadata": {},
   "source": [
    "# Taxi zones資料"
   ]
  },
  {
   "cell_type": "code",
   "execution_count": 19,
   "metadata": {},
   "outputs": [
    {
     "data": {
      "text/html": [
       "<div>\n",
       "<style scoped>\n",
       "    .dataframe tbody tr th:only-of-type {\n",
       "        vertical-align: middle;\n",
       "    }\n",
       "\n",
       "    .dataframe tbody tr th {\n",
       "        vertical-align: top;\n",
       "    }\n",
       "\n",
       "    .dataframe thead th {\n",
       "        text-align: right;\n",
       "    }\n",
       "</style>\n",
       "<table border=\"1\" class=\"dataframe\">\n",
       "  <thead>\n",
       "    <tr style=\"text-align: right;\">\n",
       "      <th></th>\n",
       "      <th>zone</th>\n",
       "      <th>LocationID</th>\n",
       "      <th>borough</th>\n",
       "      <th>lat</th>\n",
       "      <th>lon</th>\n",
       "    </tr>\n",
       "  </thead>\n",
       "  <tbody>\n",
       "    <tr>\n",
       "      <th>0</th>\n",
       "      <td>Newark Airport</td>\n",
       "      <td>1</td>\n",
       "      <td>EWR</td>\n",
       "      <td>40.690243</td>\n",
       "      <td>-74.174270</td>\n",
       "    </tr>\n",
       "    <tr>\n",
       "      <th>1</th>\n",
       "      <td>Jamaica Bay</td>\n",
       "      <td>2</td>\n",
       "      <td>Queens</td>\n",
       "      <td>40.612163</td>\n",
       "      <td>-73.817643</td>\n",
       "    </tr>\n",
       "    <tr>\n",
       "      <th>2</th>\n",
       "      <td>Allerton/Pelham Gardens</td>\n",
       "      <td>3</td>\n",
       "      <td>Bronx</td>\n",
       "      <td>40.864294</td>\n",
       "      <td>-73.846510</td>\n",
       "    </tr>\n",
       "    <tr>\n",
       "      <th>3</th>\n",
       "      <td>Alphabet City</td>\n",
       "      <td>4</td>\n",
       "      <td>Manhattan</td>\n",
       "      <td>40.723853</td>\n",
       "      <td>-73.975209</td>\n",
       "    </tr>\n",
       "    <tr>\n",
       "      <th>4</th>\n",
       "      <td>Arden Heights</td>\n",
       "      <td>5</td>\n",
       "      <td>Staten Island</td>\n",
       "      <td>40.556678</td>\n",
       "      <td>-74.189803</td>\n",
       "    </tr>\n",
       "  </tbody>\n",
       "</table>\n",
       "</div>"
      ],
      "text/plain": [
       "                      zone  LocationID        borough        lat        lon\n",
       "0           Newark Airport           1            EWR  40.690243 -74.174270\n",
       "1              Jamaica Bay           2         Queens  40.612163 -73.817643\n",
       "2  Allerton/Pelham Gardens           3          Bronx  40.864294 -73.846510\n",
       "3            Alphabet City           4      Manhattan  40.723853 -73.975209\n",
       "4            Arden Heights           5  Staten Island  40.556678 -74.189803"
      ]
     },
     "execution_count": 19,
     "metadata": {},
     "output_type": "execute_result"
    }
   ],
   "source": [
    "taxi_zones = pd.read_csv('organized_taxi_zone_lat_lon.csv')\n",
    "taxi_zones.head()"
   ]
  },
  {
   "cell_type": "code",
   "execution_count": 20,
   "metadata": {},
   "outputs": [
    {
     "data": {
      "text/plain": [
       "2.50    258602\n",
       "0.00      6231\n",
       "5.00      2608\n",
       "1.25       467\n",
       "Name: airport_fee, dtype: int64"
      ]
     },
     "execution_count": 20,
     "metadata": {},
     "output_type": "execute_result"
    }
   ],
   "source": [
    "uber_202304[uber_202304.PULocationID == 132].airport_fee.value_counts()"
   ]
  },
  {
   "cell_type": "markdown",
   "metadata": {},
   "source": [
    "待進行：根據LocationID將資料分為5大區域，EDA可用"
   ]
  },
  {
   "cell_type": "markdown",
   "metadata": {},
   "source": [
    "待進行：用起點和終點區域比對通行費"
   ]
  },
  {
   "cell_type": "markdown",
   "metadata": {},
   "source": [
    "# 天氣資料"
   ]
  }
 ],
 "metadata": {
  "kernelspec": {
   "display_name": "test_parquet",
   "language": "python",
   "name": "python3"
  },
  "language_info": {
   "codemirror_mode": {
    "name": "ipython",
    "version": 3
   },
   "file_extension": ".py",
   "mimetype": "text/x-python",
   "name": "python",
   "nbconvert_exporter": "python",
   "pygments_lexer": "ipython3",
   "version": "3.10.12"
  },
  "orig_nbformat": 4
 },
 "nbformat": 4,
 "nbformat_minor": 2
}
